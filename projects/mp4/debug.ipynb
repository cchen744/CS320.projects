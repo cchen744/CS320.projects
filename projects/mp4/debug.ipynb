{
 "cells": [
  {
   "cell_type": "code",
   "execution_count": 126,
   "id": "26d4e464-68f2-4347-bb7f-f8339bb18f55",
   "metadata": {},
   "outputs": [
    {
     "name": "stdout",
     "output_type": "stream",
     "text": [
      "The autoreload extension is already loaded. To reload it, use:\n",
      "  %reload_ext autoreload\n"
     ]
    }
   ],
   "source": [
    "import scrape\n",
    "from selenium.webdriver.chrome.options import Options\n",
    "from selenium import webdriver\n",
    "from selenium.webdriver.chrome.service import Service\n",
    "from webdriver_manager.chrome import ChromeDriverManager\n",
    "import os\n",
    "os.system(\"pkill -f -9 chromium\")\n",
    "\n",
    "%load_ext autoreload\n",
    "%autoreload 2"
   ]
  },
  {
   "cell_type": "code",
   "execution_count": 61,
   "id": "eb4a7489-ae36-4c48-b157-4c8942562179",
   "metadata": {},
   "outputs": [],
   "source": [
    "class Parent:\n",
    "    def twice(self):\n",
    "        self.message()\n",
    "        self.message()\n",
    "        \n",
    "    def message(self):\n",
    "        print(\"parent says hi\")\n",
    "        \n",
    "class Child(Parent):\n",
    "    def message(self):\n",
    "        print(\"child says hi\")\n",
    "        \n",
    "c = Child()"
   ]
  },
  {
   "cell_type": "code",
   "execution_count": 4,
   "id": "1cfb9e34-6435-4091-8ea1-658bcbc39e8b",
   "metadata": {},
   "outputs": [
    {
     "name": "stdout",
     "output_type": "stream",
     "text": [
      "child says hi\n",
      "child says hi\n"
     ]
    }
   ],
   "source": [
    "c.twice()"
   ]
  },
  {
   "cell_type": "code",
   "execution_count": null,
   "id": "457d975e-9631-4073-91ce-c286d0dcf0ac",
   "metadata": {},
   "outputs": [],
   "source": [
    "class GraphSearcher:\n",
    "    def __init__(self):\n",
    "        self.visited = set()\n",
    "        self.order = []\n",
    "\n",
    "    def visit_and_get_children(self, node):\n",
    "        \"\"\" \n",
    "        Leave this method as is! It will be over-written the child classes\n",
    "        Each child class should perform the following:\n",
    "            Record the node value in self.order AND return its children\n",
    "            parameter: node\n",
    "            return: children of the given node\n",
    "        \"\"\"\n",
    "        raise Exception(\"must be overridden in sub classes -- don't change me here!\")\n",
    "\n",
    "    def dfs_search(self, node):\n",
    "        # 1. clear out visited set and order list\n",
    "        self.visited.clear()\n",
    "        self.order.clear()\n",
    "        # 2. start recursive search by calling dfs_visit\n",
    "        return self.dfs_visit(node)\n",
    "        \n",
    "    def dfs_visit(self, node):\n",
    "        # 1. if this node has already been visited, just `return` (no value necessary)\n",
    "        if node in self.visited:\n",
    "            return\n",
    "        # 2. mark node as visited by adding it to the set\n",
    "        self.visited.add(node)\n",
    "        # 3. call self.visit_and_get_children(node) to get the children\n",
    "        for child in self.visit_and_get_children(node):\n",
    "            self.dfs_visit(child)\n",
    "        # 4. in a loop, call dfs_visit on each of the children\n",
    "        "
   ]
  },
  {
   "cell_type": "code",
   "execution_count": 149,
   "id": "4c4180df-72c8-4917-be7a-c32a39322e64",
   "metadata": {},
   "outputs": [
    {
     "ename": "Exception",
     "evalue": "must be overridden in sub classes -- don't change me here!",
     "output_type": "error",
     "traceback": [
      "\u001b[0;31m---------------------------------------------------------------------------\u001b[0m",
      "\u001b[0;31mException\u001b[0m                                 Traceback (most recent call last)",
      "Cell \u001b[0;32mIn[149], line 2\u001b[0m\n\u001b[1;32m      1\u001b[0m g \u001b[38;5;241m=\u001b[39m GraphSearcher()\n\u001b[0;32m----> 2\u001b[0m \u001b[43mg\u001b[49m\u001b[38;5;241;43m.\u001b[39;49m\u001b[43mdfs_search\u001b[49m\u001b[43m(\u001b[49m\u001b[38;5;124;43m\"\u001b[39;49m\u001b[38;5;124;43mA\u001b[39;49m\u001b[38;5;124;43m\"\u001b[39;49m\u001b[43m)\u001b[49m\n",
      "Cell \u001b[0;32mIn[54], line 21\u001b[0m, in \u001b[0;36mGraphSearcher.dfs_search\u001b[0;34m(self, node)\u001b[0m\n\u001b[1;32m     19\u001b[0m \u001b[38;5;28mself\u001b[39m\u001b[38;5;241m.\u001b[39morder\u001b[38;5;241m.\u001b[39mclear()\n\u001b[1;32m     20\u001b[0m \u001b[38;5;66;03m# 2. start recursive search by calling dfs_visit\u001b[39;00m\n\u001b[0;32m---> 21\u001b[0m \u001b[38;5;28;01mreturn\u001b[39;00m \u001b[38;5;28;43mself\u001b[39;49m\u001b[38;5;241;43m.\u001b[39;49m\u001b[43mdfs_visit\u001b[49m\u001b[43m(\u001b[49m\u001b[43mnode\u001b[49m\u001b[43m)\u001b[49m\n",
      "Cell \u001b[0;32mIn[54], line 30\u001b[0m, in \u001b[0;36mGraphSearcher.dfs_visit\u001b[0;34m(self, node)\u001b[0m\n\u001b[1;32m     28\u001b[0m \u001b[38;5;28mself\u001b[39m\u001b[38;5;241m.\u001b[39mvisited\u001b[38;5;241m.\u001b[39madd(node)\n\u001b[1;32m     29\u001b[0m \u001b[38;5;66;03m# 3. call self.visit_and_get_children(node) to get the children\u001b[39;00m\n\u001b[0;32m---> 30\u001b[0m \u001b[38;5;28;01mfor\u001b[39;00m child \u001b[38;5;129;01min\u001b[39;00m \u001b[38;5;28;43mself\u001b[39;49m\u001b[38;5;241;43m.\u001b[39;49m\u001b[43mvisit_and_get_children\u001b[49m\u001b[43m(\u001b[49m\u001b[43mnode\u001b[49m\u001b[43m)\u001b[49m:\n\u001b[1;32m     31\u001b[0m     \u001b[38;5;28mself\u001b[39m\u001b[38;5;241m.\u001b[39mdfs_visit(child)\n",
      "Cell \u001b[0;32mIn[54], line 14\u001b[0m, in \u001b[0;36mGraphSearcher.visit_and_get_children\u001b[0;34m(self, node)\u001b[0m\n\u001b[1;32m      6\u001b[0m \u001b[38;5;28;01mdef\u001b[39;00m\u001b[38;5;250m \u001b[39m\u001b[38;5;21mvisit_and_get_children\u001b[39m(\u001b[38;5;28mself\u001b[39m, node):\n\u001b[1;32m      7\u001b[0m \u001b[38;5;250m    \u001b[39m\u001b[38;5;124;03m\"\"\" \u001b[39;00m\n\u001b[1;32m      8\u001b[0m \u001b[38;5;124;03m    Leave this method as is! It will be over-written the child classes\u001b[39;00m\n\u001b[1;32m      9\u001b[0m \u001b[38;5;124;03m    Each child class should perform the following:\u001b[39;00m\n\u001b[0;32m   (...)\u001b[0m\n\u001b[1;32m     12\u001b[0m \u001b[38;5;124;03m        return: children of the given node\u001b[39;00m\n\u001b[1;32m     13\u001b[0m \u001b[38;5;124;03m    \"\"\"\u001b[39;00m\n\u001b[0;32m---> 14\u001b[0m     \u001b[38;5;28;01mraise\u001b[39;00m \u001b[38;5;167;01mException\u001b[39;00m(\u001b[38;5;124m\"\u001b[39m\u001b[38;5;124mmust be overridden in sub classes -- don\u001b[39m\u001b[38;5;124m'\u001b[39m\u001b[38;5;124mt change me here!\u001b[39m\u001b[38;5;124m\"\u001b[39m)\n",
      "\u001b[0;31mException\u001b[0m: must be overridden in sub classes -- don't change me here!"
     ]
    }
   ],
   "source": [
    "g = GraphSearcher()\n",
    "g.dfs_search(\"A\")"
   ]
  },
  {
   "cell_type": "code",
   "execution_count": 42,
   "id": "1b4d3735-fc33-4448-8a08-e47adec392cf",
   "metadata": {},
   "outputs": [
    {
     "data": {
      "text/html": [
       "<div>\n",
       "<style scoped>\n",
       "    .dataframe tbody tr th:only-of-type {\n",
       "        vertical-align: middle;\n",
       "    }\n",
       "\n",
       "    .dataframe tbody tr th {\n",
       "        vertical-align: top;\n",
       "    }\n",
       "\n",
       "    .dataframe thead th {\n",
       "        text-align: right;\n",
       "    }\n",
       "</style>\n",
       "<table border=\"1\" class=\"dataframe\">\n",
       "  <thead>\n",
       "    <tr style=\"text-align: right;\">\n",
       "      <th></th>\n",
       "      <th>A</th>\n",
       "      <th>B</th>\n",
       "      <th>C</th>\n",
       "      <th>D</th>\n",
       "    </tr>\n",
       "  </thead>\n",
       "  <tbody>\n",
       "    <tr>\n",
       "      <th>A</th>\n",
       "      <td>0</td>\n",
       "      <td>1</td>\n",
       "      <td>0</td>\n",
       "      <td>1</td>\n",
       "    </tr>\n",
       "    <tr>\n",
       "      <th>B</th>\n",
       "      <td>0</td>\n",
       "      <td>0</td>\n",
       "      <td>1</td>\n",
       "      <td>0</td>\n",
       "    </tr>\n",
       "    <tr>\n",
       "      <th>C</th>\n",
       "      <td>0</td>\n",
       "      <td>0</td>\n",
       "      <td>0</td>\n",
       "      <td>1</td>\n",
       "    </tr>\n",
       "    <tr>\n",
       "      <th>D</th>\n",
       "      <td>0</td>\n",
       "      <td>0</td>\n",
       "      <td>1</td>\n",
       "      <td>0</td>\n",
       "    </tr>\n",
       "  </tbody>\n",
       "</table>\n",
       "</div>"
      ],
      "text/plain": [
       "   A  B  C  D\n",
       "A  0  1  0  1\n",
       "B  0  0  1  0\n",
       "C  0  0  0  1\n",
       "D  0  0  1  0"
      ]
     },
     "execution_count": 42,
     "metadata": {},
     "output_type": "execute_result"
    }
   ],
   "source": [
    "import pandas as pd\n",
    "\n",
    "df = pd.DataFrame([\n",
    "    [0,1,0,1],\n",
    "    [0,0,1,0],\n",
    "    [0,0,0,1],\n",
    "    [0,0,1,0],\n",
    "], index=[\"A\", \"B\", \"C\", \"D\"], columns=[\"A\", \"B\", \"C\", \"D\"])\n",
    "df"
   ]
  },
  {
   "cell_type": "code",
   "execution_count": 43,
   "id": "4a3da0cf-e549-44a5-8649-dabc4c29b999",
   "metadata": {},
   "outputs": [
    {
     "name": "stdout",
     "output_type": "stream",
     "text": [
      "C\n"
     ]
    }
   ],
   "source": [
    "for node, has_edge in df.loc[\"B\"].items():\n",
    "    if has_edge == 1:\n",
    "        print(node)"
   ]
  },
  {
   "cell_type": "code",
   "execution_count": 58,
   "id": "a56efe68-09e4-482e-833d-f6a10de95ad5",
   "metadata": {},
   "outputs": [],
   "source": [
    "class MatrixSearcher(GraphSearcher):\n",
    "    def __init__(self, df):\n",
    "        super().__init__() # call constructor method of parent class\n",
    "        self.df = df\n",
    "        \n",
    "    def visit_and_get_children(self, node):\n",
    "        \"\"\" \n",
    "        Leave this method as is! It will be over-written the child classes\n",
    "        Each child class should perform the following:\n",
    "            Record the node value in self.order AND return its children\n",
    "            parameter: node\n",
    "            return: children of the given node\n",
    "        \"\"\"\n",
    "        # TODO: Record the node value in self.order\n",
    "        self.order.append(node)\n",
    "        children = []\n",
    "        # TODO: use `self.df` to determine what children the node has and append them\n",
    "        for node, has_edge in df.loc[node].items():\n",
    "            if has_edge == 1:\n",
    "                children.append(node)\n",
    "        return children"
   ]
  },
  {
   "cell_type": "code",
   "execution_count": 59,
   "id": "8f06be76-0034-4b4c-b42d-7d752a3edd56",
   "metadata": {},
   "outputs": [
    {
     "data": {
      "text/plain": [
       "['A', 'B', 'C', 'D']"
      ]
     },
     "execution_count": 59,
     "metadata": {},
     "output_type": "execute_result"
    }
   ],
   "source": [
    "m = MatrixSearcher(df)\n",
    "m.dfs_search('A')\n",
    "m.order"
   ]
  },
  {
   "cell_type": "code",
   "execution_count": 78,
   "id": "7ec40d9f-7eff-456f-8e1a-57c9d44603cc",
   "metadata": {},
   "outputs": [
    {
     "data": {
      "text/plain": [
       "['A', 'B', 'D', 'C']"
      ]
     },
     "execution_count": 78,
     "metadata": {},
     "output_type": "execute_result"
    }
   ],
   "source": [
    "df = pd.DataFrame([\n",
    "    [0,1,0,1],\n",
    "    [0,0,1,0],\n",
    "    [0,0,0,1],\n",
    "    [0,0,1,0],\n",
    "], index=[\"A\", \"B\", \"C\", \"D\"], columns=[\"A\", \"B\", \"C\", \"D\"])\n",
    "\n",
    "m = scrape.MatrixSearcher(df)\n",
    "m.bfs_search(\"A\")\n",
    "m.order"
   ]
  },
  {
   "cell_type": "code",
   "execution_count": 79,
   "id": "779002f4-0d70-474a-beec-0471f20e2bae",
   "metadata": {},
   "outputs": [],
   "source": [
    "fs = scrape.FileSearcher()"
   ]
  },
  {
   "cell_type": "code",
   "execution_count": 93,
   "id": "3e845a07-30fb-4a30-a434-a2807684e66c",
   "metadata": {},
   "outputs": [
    {
     "data": {
      "text/plain": [
       "['2.txt,4.txt']"
      ]
     },
     "execution_count": 93,
     "metadata": {},
     "output_type": "execute_result"
    }
   ],
   "source": [
    "fs.visit_and_get_children('1.txt')"
   ]
  },
  {
   "cell_type": "code",
   "execution_count": 94,
   "id": "0aaffad0-fc28-4065-afa1-f9c0b7a5240e",
   "metadata": {},
   "outputs": [
    {
     "name": "stdout",
     "output_type": "stream",
     "text": [
      "['2.txt,4.txt'] ['M'] M\n"
     ]
    }
   ],
   "source": [
    "fs = scrape.FileSearcher()\n",
    "print(fs.visit_and_get_children(\"1.txt\"), fs.order, fs.concat_order())"
   ]
  },
  {
   "cell_type": "code",
   "execution_count": 96,
   "id": "38547db5-0626-4f00-9a0e-6e9e10b7441e",
   "metadata": {},
   "outputs": [],
   "source": [
    "options = Options()\n",
    "# Run in headless mode (info: https://www.browserstack.com/guide/what-is-headless-browser-testing)\n",
    "options.add_argument(\"--headless=new\")\n",
    "driver = webdriver.Chrome(options=options)\n",
    "ws = scrape.WebSearcher(driver)"
   ]
  },
  {
   "cell_type": "code",
   "execution_count": 111,
   "id": "c7b2cd35-ab19-4d60-ae42-fae810e2b480",
   "metadata": {},
   "outputs": [
    {
     "name": "stdout",
     "output_type": "stream",
     "text": [
      "http://34.68.128.6:5000/Node_1.html\n"
     ]
    }
   ],
   "source": [
    "options = Options()\n",
    "options.add_argument(\"--headless=new\")\n",
    "service = Service(ChromeDriverManager().install())\n",
    "driver = webdriver.Chrome(options=options, service=service)\n",
    "ws = scrape.WebSearcher(driver)\n",
    "driver.get(\"http://34.68.128.6:5000\")\n",
    "driver.page_source\n",
    "\n",
    "for link in driver.find_elements('tag name','a'):\n",
    "    if link.get_attribute(\"href\") != None:\n",
    "        print(link.get_attribute(\"href\"))"
   ]
  },
  {
   "cell_type": "code",
   "execution_count": 118,
   "id": "52bb57b9-cf4e-47e7-9e4e-dd300753ec63",
   "metadata": {},
   "outputs": [
    {
     "name": "stdout",
     "output_type": "stream",
     "text": [
      "clue latitude longitude description\n",
      "1 43.089034 -89.416128 Picnic Point in Madison\n",
      "7 38.105507 126.910613 Silver Beach in Hawaii\n",
      "Page 2 Page 4\n"
     ]
    }
   ],
   "source": [
    "driver.get(\"http://34.68.128.6:5000/Node_1.html\")\n",
    "for  tr in driver.find_elements('tag name','tr'):\n",
    "    print(tr.text)"
   ]
  },
  {
   "cell_type": "code",
   "execution_count": 121,
   "id": "a3b5128d-5f3a-4635-a6fd-3b1d4cfd1d87",
   "metadata": {},
   "outputs": [
    {
     "data": {
      "text/html": [
       "<div>\n",
       "<style scoped>\n",
       "    .dataframe tbody tr th:only-of-type {\n",
       "        vertical-align: middle;\n",
       "    }\n",
       "\n",
       "    .dataframe tbody tr th {\n",
       "        vertical-align: top;\n",
       "    }\n",
       "\n",
       "    .dataframe thead th {\n",
       "        text-align: right;\n",
       "    }\n",
       "</style>\n",
       "<table border=\"1\" class=\"dataframe\">\n",
       "  <thead>\n",
       "    <tr style=\"text-align: right;\">\n",
       "      <th></th>\n",
       "      <th>clue</th>\n",
       "      <th>latitude</th>\n",
       "      <th>longitude</th>\n",
       "      <th>description</th>\n",
       "    </tr>\n",
       "  </thead>\n",
       "  <tbody>\n",
       "    <tr>\n",
       "      <th>0</th>\n",
       "      <td>1</td>\n",
       "      <td>43.089034</td>\n",
       "      <td>-89.416128</td>\n",
       "      <td>Picnic Point in Madison</td>\n",
       "    </tr>\n",
       "    <tr>\n",
       "      <th>1</th>\n",
       "      <td>7</td>\n",
       "      <td>38.105507</td>\n",
       "      <td>126.910613</td>\n",
       "      <td>Silver Beach in Hawaii</td>\n",
       "    </tr>\n",
       "  </tbody>\n",
       "</table>\n",
       "</div>"
      ],
      "text/plain": [
       "   clue   latitude   longitude              description\n",
       "0     1  43.089034  -89.416128  Picnic Point in Madison\n",
       "1     7  38.105507  126.910613   Silver Beach in Hawaii"
      ]
     },
     "execution_count": 121,
     "metadata": {},
     "output_type": "execute_result"
    }
   ],
   "source": [
    "pd.read_html('http://34.68.128.6:5000/Node_1.html')[0]"
   ]
  },
  {
   "cell_type": "code",
   "execution_count": 147,
   "id": "f4b9a978-20ca-4b85-b72d-17d63c286769",
   "metadata": {},
   "outputs": [
    {
     "name": "stdout",
     "output_type": "stream",
     "text": [
      "['http://34.68.128.6:5000/Node_2.html', 'http://34.68.128.6:5000/Node_4.html']\n",
      "    clue   latitude   longitude                          description\n",
      "0      1  43.089034  -89.416128              Picnic Point in Madison\n",
      "1      7  38.105507  126.910613               Silver Beach in Hawaii\n",
      "2      1  65.044901  -16.712836  Shore of a Volcanic Lake in Iceland\n",
      "3      3  48.860945    2.335773                  The Louvre in Paris\n",
      "4      5  37.434183 -122.321990      Redwood forest in San Francisco\n",
      "5      8  51.180315   -1.829659                 Stonehenge in the UK\n",
      "6      2  27.987586   86.925002                 Mt. Everest in Nepal\n",
      "7      4  34.134117 -118.321495                 Hollywood Sign in LA\n",
      "8      5  38.655100   90.061800                 Cahokia Mounds in IL\n",
      "9      9  40.748400   73.985700          Empire State Building in NY\n",
      "10     4  29.975300   31.137600        Great Sphinx of Giza in Egypt\n",
      "11     1  47.557600   10.749800     Neuschwanstein Castle in Germany\n",
      "12     5  38.624700   90.184800        The Gateway Arch in St. Louis\n",
      "13     3  30.328500   35.444400                      Petra in Jordan\n",
      "14     2  41.480800   82.683400                    Cedar Point in OH\n",
      "15     6  43.070010  -89.409450          Quick Trip on Monroe Street\n"
     ]
    }
   ],
   "source": [
    "driver = None\n",
    "\n",
    "def browser():\n",
    "    global driver\n",
    "\n",
    "    if not driver:\n",
    "        os.system(\"pkill -f -9 chromium\")\n",
    "        options = Options()\n",
    "        options.add_argument(\"--headless=new\")\n",
    "        options.add_argument('--no-sandbox')\n",
    "        options.add_argument('--disable-dev-shm-usage')\n",
    "        driver = webdriver.Chrome(options=options)\n",
    "    return driver\n",
    "\n",
    "driver = browser()\n",
    "\n",
    "VM_IP = ''\n",
    "start_url = f\"http://34.68.128.6:5000/Node_1.html\"\n",
    "\n",
    "s = scrape.WebSearcher(driver)\n",
    "print(s.visit_and_get_children(start_url))\n",
    "\n",
    "s = scrape.WebSearcher(driver)\n",
    "s.bfs_search(start_url)\n",
    "\n",
    "\n",
    "print(s.table())\n",
    "\n",
    "driver.close()"
   ]
  },
  {
   "cell_type": "code",
   "execution_count": null,
   "id": "b2c541b7-e03b-4a69-b2d6-7897f27a0bf1",
   "metadata": {},
   "outputs": [],
   "source": []
  }
 ],
 "metadata": {
  "kernelspec": {
   "display_name": "Python 3 (ipykernel)",
   "language": "python",
   "name": "python3"
  },
  "language_info": {
   "codemirror_mode": {
    "name": "ipython",
    "version": 3
   },
   "file_extension": ".py",
   "mimetype": "text/x-python",
   "name": "python",
   "nbconvert_exporter": "python",
   "pygments_lexer": "ipython3",
   "version": "3.10.12"
  }
 },
 "nbformat": 4,
 "nbformat_minor": 5
}
