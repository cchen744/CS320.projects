{
 "cells": [
  {
   "cell_type": "code",
<<<<<<< HEAD
   "execution_count": 5,
=======
   "execution_count": 22,
>>>>>>> MP3
   "id": "94c61fe2-d0bb-4472-97d6-fb0f9892b906",
   "metadata": {},
   "outputs": [],
   "source": [
    "from selenium.webdriver.chrome.options import Options\n",
    "from selenium.webdriver.chrome.service import Service\n",
    "from selenium import webdriver\n",
    "from webdriver_manager.chrome import ChromeDriverManager"
   ]
  },
  {
   "cell_type": "code",
<<<<<<< HEAD
   "execution_count": 8,
=======
   "execution_count": 34,
>>>>>>> MP3
   "id": "8bdef5db-446f-467e-b789-729f8d9acdca",
   "metadata": {},
   "outputs": [],
   "source": [
    "import scrape\n",
    "from selenium.webdriver.chrome.options import Options\n",
    "from selenium.webdriver.chrome.service import Service\n",
    "from selenium import webdriver\n",
    "from webdriver_manager.chrome import ChromeDriverManager\n",
<<<<<<< HEAD
    "import os\n",
=======
>>>>>>> MP3
    "os.system(\"pkill -f -9 chromium\")\n",
    "\n",
    "options = Options()\n",
    "options.add_argument(\"--headless=new\")\n",
    "service = Service(ChromeDriverManager().install())\n",
    "driver = webdriver.Chrome(options=options, service=service)\n",
<<<<<<< HEAD
    "url = \"http://34.68.128.6:5000\"\n",
=======
    "url = \"http://34.171.110.205:5000\"\n",
>>>>>>> MP3
    "webpage = driver.get(url)\n",
    "driver.close()\n",
    "webpage"
   ]
  },
  {
   "cell_type": "code",
   "execution_count": null,
   "id": "c5b2af5a-c05f-4314-a550-63af31e10766",
   "metadata": {},
   "outputs": [],
   "source": []
  }
 ],
 "metadata": {
  "kernelspec": {
   "display_name": "Python 3 (ipykernel)",
   "language": "python",
   "name": "python3"
  },
  "language_info": {
   "codemirror_mode": {
    "name": "ipython",
    "version": 3
   },
   "file_extension": ".py",
   "mimetype": "text/x-python",
   "name": "python",
   "nbconvert_exporter": "python",
   "pygments_lexer": "ipython3",
   "version": "3.10.12"
  }
 },
 "nbformat": 4,
 "nbformat_minor": 5
}
