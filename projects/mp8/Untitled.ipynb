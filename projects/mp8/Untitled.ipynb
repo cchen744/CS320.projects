{
 "cells": [
  {
   "cell_type": "code",
   "execution_count": 8,
   "id": "df1fc094-675a-4121-a57c-0d119acc2b32",
   "metadata": {},
   "outputs": [],
   "source": [
    "import pandas as pd\n",
    "from main import UserPredictor\n",
    "model = UserPredictor()\n",
    "train_users = pd.read_csv(\"data/train_users.csv\")\n",
    "train_logs = pd.read_csv(\"data/train_logs.csv\")\n",
    "train_y = pd.read_csv(\"data/train_y.csv\")\n",
    "model.fit(train_users, train_logs, train_y)"
   ]
  },
  {
   "cell_type": "code",
   "execution_count": 9,
   "id": "11298ca2-cb4d-4951-a90c-0716874f649c",
   "metadata": {},
   "outputs": [],
   "source": [
    "test_users = pd.read_csv(\"data/test1_users.csv\")\n",
    "test_logs = pd.read_csv(\"data/test1_logs.csv\")\n",
    "y_pred = model.predict(test_users, test_logs)"
   ]
  },
  {
   "cell_type": "code",
   "execution_count": 11,
   "id": "13096fd1-9344-42d8-8300-41205bde00b6",
   "metadata": {},
   "outputs": [
    {
     "data": {
      "text/plain": [
       "array([False, False, False, ..., False, False, False], shape=(104733,))"
      ]
     },
     "execution_count": 11,
     "metadata": {},
     "output_type": "execute_result"
    }
   ],
   "source": [
    "y_pred"
   ]
  },
  {
   "cell_type": "code",
   "execution_count": null,
   "id": "6f82c79e-97a8-4c9b-a593-a8fd6a40f329",
   "metadata": {},
   "outputs": [],
   "source": []
  }
 ],
 "metadata": {
  "kernelspec": {
   "display_name": "Python 3 (ipykernel)",
   "language": "python",
   "name": "python3"
  },
  "language_info": {
   "codemirror_mode": {
    "name": "ipython",
    "version": 3
   },
   "file_extension": ".py",
   "mimetype": "text/x-python",
   "name": "python",
   "nbconvert_exporter": "python",
   "pygments_lexer": "ipython3",
   "version": "3.10.12"
  }
 },
 "nbformat": 4,
 "nbformat_minor": 5
}
