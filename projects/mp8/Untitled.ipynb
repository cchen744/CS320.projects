{
 "cells": [
  {
   "cell_type": "code",
   "execution_count": 1,
   "id": "df1fc094-675a-4121-a57c-0d119acc2b32",
   "metadata": {},
   "outputs": [],
   "source": [
    "import pandas as pd\n",
    "from main import UserPredictor\n",
    "%load_ext autoreload\n",
    "%autoreload 2"
   ]
  },
  {
   "cell_type": "code",
   "execution_count": 2,
   "id": "4b7821df-33b8-4c3a-83fb-4c3215f1b22f",
   "metadata": {},
   "outputs": [
    {
     "data": {
      "text/plain": [
       "(30000, 7)"
      ]
     },
     "execution_count": 2,
     "metadata": {},
     "output_type": "execute_result"
    }
   ],
   "source": [
    "model = UserPredictor()\n",
    "train_users = pd.read_csv(\"data/train_users.csv\")\n",
    "train_logs = pd.read_csv(\"data/train_logs.csv\")\n",
    "train_y = pd.read_csv(\"data/train_y.csv\")\n",
    "model.fit(train_users, train_logs, train_y)"
   ]
  },
  {
   "cell_type": "code",
   "execution_count": 3,
   "id": "d4604201-69d7-48cc-8f08-d63795d23ce8",
   "metadata": {},
   "outputs": [
    {
     "data": {
      "text/html": [
       "<div>\n",
       "<style scoped>\n",
       "    .dataframe tbody tr th:only-of-type {\n",
       "        vertical-align: middle;\n",
       "    }\n",
       "\n",
       "    .dataframe tbody tr th {\n",
       "        vertical-align: top;\n",
       "    }\n",
       "\n",
       "    .dataframe thead th {\n",
       "        text-align: right;\n",
       "    }\n",
       "</style>\n",
       "<table border=\"1\" class=\"dataframe\">\n",
       "  <thead>\n",
       "    <tr style=\"text-align: right;\">\n",
       "      <th></th>\n",
       "      <th>names</th>\n",
       "      <th>age</th>\n",
       "      <th>past_purchase_amt</th>\n",
       "      <th>badge</th>\n",
       "      <th>y</th>\n",
       "      <th>seconds</th>\n",
       "    </tr>\n",
       "    <tr>\n",
       "      <th>user_id</th>\n",
       "      <th></th>\n",
       "      <th></th>\n",
       "      <th></th>\n",
       "      <th></th>\n",
       "      <th></th>\n",
       "      <th></th>\n",
       "    </tr>\n",
       "  </thead>\n",
       "  <tbody>\n",
       "    <tr>\n",
       "      <th>0</th>\n",
       "      <td>Adriana Mcclure</td>\n",
       "      <td>26</td>\n",
       "      <td>39.344704</td>\n",
       "      <td>gold</td>\n",
       "      <td>False</td>\n",
       "      <td>327.0</td>\n",
       "    </tr>\n",
       "    <tr>\n",
       "      <th>1</th>\n",
       "      <td>Stacy Gilmore</td>\n",
       "      <td>67</td>\n",
       "      <td>15.840151</td>\n",
       "      <td>silver</td>\n",
       "      <td>False</td>\n",
       "      <td>78.0</td>\n",
       "    </tr>\n",
       "    <tr>\n",
       "      <th>2</th>\n",
       "      <td>Joanna Walsh</td>\n",
       "      <td>50</td>\n",
       "      <td>1099.420085</td>\n",
       "      <td>bronze</td>\n",
       "      <td>True</td>\n",
       "      <td>432.0</td>\n",
       "    </tr>\n",
       "    <tr>\n",
       "      <th>3</th>\n",
       "      <td>Eduardo Moore</td>\n",
       "      <td>65</td>\n",
       "      <td>5.880239</td>\n",
       "      <td>bronze</td>\n",
       "      <td>False</td>\n",
       "      <td>347.0</td>\n",
       "    </tr>\n",
       "    <tr>\n",
       "      <th>4</th>\n",
       "      <td>Angela Freeman</td>\n",
       "      <td>88</td>\n",
       "      <td>1312.296847</td>\n",
       "      <td>bronze</td>\n",
       "      <td>False</td>\n",
       "      <td>347.0</td>\n",
       "    </tr>\n",
       "    <tr>\n",
       "      <th>...</th>\n",
       "      <td>...</td>\n",
       "      <td>...</td>\n",
       "      <td>...</td>\n",
       "      <td>...</td>\n",
       "      <td>...</td>\n",
       "      <td>...</td>\n",
       "    </tr>\n",
       "    <tr>\n",
       "      <th>29995</th>\n",
       "      <td>William Lewis</td>\n",
       "      <td>87</td>\n",
       "      <td>108.914205</td>\n",
       "      <td>bronze</td>\n",
       "      <td>False</td>\n",
       "      <td>563.0</td>\n",
       "    </tr>\n",
       "    <tr>\n",
       "      <th>29996</th>\n",
       "      <td>James Miranda</td>\n",
       "      <td>49</td>\n",
       "      <td>291.969273</td>\n",
       "      <td>gold</td>\n",
       "      <td>True</td>\n",
       "      <td>532.0</td>\n",
       "    </tr>\n",
       "    <tr>\n",
       "      <th>29997</th>\n",
       "      <td>Carlos Davis</td>\n",
       "      <td>46</td>\n",
       "      <td>2.609698</td>\n",
       "      <td>bronze</td>\n",
       "      <td>False</td>\n",
       "      <td>347.0</td>\n",
       "    </tr>\n",
       "    <tr>\n",
       "      <th>29998</th>\n",
       "      <td>Makayla Smith</td>\n",
       "      <td>23</td>\n",
       "      <td>164.885894</td>\n",
       "      <td>bronze</td>\n",
       "      <td>False</td>\n",
       "      <td>347.0</td>\n",
       "    </tr>\n",
       "    <tr>\n",
       "      <th>29999</th>\n",
       "      <td>Tina Anderson</td>\n",
       "      <td>51</td>\n",
       "      <td>161.905284</td>\n",
       "      <td>gold</td>\n",
       "      <td>True</td>\n",
       "      <td>467.0</td>\n",
       "    </tr>\n",
       "  </tbody>\n",
       "</table>\n",
       "<p>30000 rows × 6 columns</p>\n",
       "</div>"
      ],
      "text/plain": [
       "                   names  age  past_purchase_amt   badge      y  seconds\n",
       "user_id                                                                 \n",
       "0        Adriana Mcclure   26          39.344704    gold  False    327.0\n",
       "1          Stacy Gilmore   67          15.840151  silver  False     78.0\n",
       "2           Joanna Walsh   50        1099.420085  bronze   True    432.0\n",
       "3          Eduardo Moore   65           5.880239  bronze  False    347.0\n",
       "4         Angela Freeman   88        1312.296847  bronze  False    347.0\n",
       "...                  ...  ...                ...     ...    ...      ...\n",
       "29995      William Lewis   87         108.914205  bronze  False    563.0\n",
       "29996      James Miranda   49         291.969273    gold   True    532.0\n",
       "29997       Carlos Davis   46           2.609698  bronze  False    347.0\n",
       "29998      Makayla Smith   23         164.885894  bronze  False    347.0\n",
       "29999      Tina Anderson   51         161.905284    gold   True    467.0\n",
       "\n",
       "[30000 rows x 6 columns]"
      ]
     },
     "execution_count": 3,
     "metadata": {},
     "output_type": "execute_result"
    }
   ],
   "source": [
    "train_data = (train_users.merge(train_y, how='inner', on='user_id'))\n",
    "aggregated_train_logs = train_logs[['user_id','seconds']].groupby('user_id').sum()\n",
    "train_data = train_data.merge(aggregated_train_logs, how='outer', on='user_id').set_index('user_id')\n",
    "train_data[train_data.isna().any(axis=1)]\n",
    "train_data.fillna(aggregated_train_logs['seconds'].median())"
   ]
  },
  {
   "cell_type": "code",
   "execution_count": 4,
   "id": "11298ca2-cb4d-4951-a90c-0716874f649c",
   "metadata": {},
   "outputs": [
    {
     "data": {
      "text/plain": [
       "(104733, 4)"
      ]
     },
     "execution_count": 4,
     "metadata": {},
     "output_type": "execute_result"
    }
   ],
   "source": [
    "test_users = pd.read_csv(\"data/test1_users.csv\")\n",
    "test_logs = pd.read_csv(\"data/test1_logs.csv\")\n",
    "y_pred = model.predict(test_users, test_logs)\n",
    "test_logs.shape"
   ]
  },
  {
   "cell_type": "code",
   "execution_count": 5,
   "id": "2857f7a2-91a4-4335-9c9c-4ee5f37d9312",
   "metadata": {},
   "outputs": [
    {
     "data": {
      "text/plain": [
       "(30000, 2)"
      ]
     },
     "execution_count": 5,
     "metadata": {},
     "output_type": "execute_result"
    }
   ],
   "source": [
    "test1_y = pd.read_csv(\"data/test1_y.csv\")\n",
    "test1_y.shape"
   ]
  },
  {
   "cell_type": "code",
   "execution_count": 6,
   "id": "9f6375ca-6321-4cee-a906-7f95a2515530",
   "metadata": {},
   "outputs": [
    {
     "data": {
      "text/plain": [
       "30000"
      ]
     },
     "execution_count": 6,
     "metadata": {},
     "output_type": "execute_result"
    }
   ],
   "source": [
    "test_users['user_id'].nunique()"
   ]
  },
  {
   "cell_type": "code",
   "execution_count": 7,
   "id": "13096fd1-9344-42d8-8300-41205bde00b6",
   "metadata": {},
   "outputs": [
    {
     "data": {
      "text/plain": [
       "array([ True,  True, False, ..., False, False,  True], shape=(30000,))"
      ]
     },
     "execution_count": 7,
     "metadata": {},
     "output_type": "execute_result"
    }
   ],
   "source": [
    "y_pred"
   ]
  },
  {
   "cell_type": "code",
   "execution_count": null,
   "id": "6f82c79e-97a8-4c9b-a593-a8fd6a40f329",
   "metadata": {},
   "outputs": [],
   "source": []
  },
  {
   "cell_type": "code",
   "execution_count": null,
   "id": "4add087d-c8d1-4fdb-a669-bd59f2d4d57c",
   "metadata": {},
   "outputs": [],
   "source": []
  }
 ],
 "metadata": {
  "kernelspec": {
   "display_name": "Python 3 (ipykernel)",
   "language": "python",
   "name": "python3"
  },
  "language_info": {
   "codemirror_mode": {
    "name": "ipython",
    "version": 3
   },
   "file_extension": ".py",
   "mimetype": "text/x-python",
   "name": "python",
   "nbconvert_exporter": "python",
   "pygments_lexer": "ipython3",
   "version": "3.10.12"
  }
 },
 "nbformat": 4,
 "nbformat_minor": 5
}
