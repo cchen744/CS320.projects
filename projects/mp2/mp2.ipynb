{
 "cells": [
  {
   "cell_type": "markdown",
   "id": "15c14c92-5e16-4d17-a239-e7af75e3af0d",
   "metadata": {},
   "source": [
    "# Machine Project 2: Webscraping & Data Analysis, Git Analysis, and Benchmarking\n"
   ]
  },
  {
   "cell_type": "code",
   "execution_count": null,
   "id": "950aa2b8-6085-441f-8b03-76bd790a35db",
   "metadata": {},
   "outputs": [],
   "source": [
    "# Add imports used throughout the project here"
   ]
  },
  {
   "cell_type": "markdown",
   "id": "3edaa576-991f-4729-a79e-827567ef0f77",
   "metadata": {},
   "source": [
    "## Part 1: HTML Review\n",
    "\n",
    "This first part of the project will serve as a review of some basic HTML and webscraping concepts."
   ]
  },
  {
   "cell_type": "markdown",
   "id": "cc5a0023-96be-49b0-abc6-45725a0f8031",
   "metadata": {},
   "source": [
    "### Q1: What is the email listed under the contact information in `sample.html`?\n",
    "\n",
    "Your output must be a **string** representing the email listed under the \"Contact Section\" of `sample.html`. \n",
    "\n",
    "**Hint:** Consider opening the HTML file and looking at it to get familiar with its structure. \n",
    "\n",
    "**Hint:** Begin by opening `sample.html`, then use `beautifulsoup4` to parse the html content and find the email. Use `find` to locate the \"Contact Section\" and find the email.\n",
    "\n",
    "**Note:** You must **not** hardcode the solution"
   ]
  },
  {
   "cell_type": "code",
   "execution_count": null,
   "id": "9e55bb19-f2a8-4fd6-a31d-2445ca43a02b",
   "metadata": {},
   "outputs": [],
   "source": [
    "#Q1"
   ]
  },
  {
   "cell_type": "markdown",
   "id": "09293efc-d3c5-4e03-81f8-cf4bbd6bb63d",
   "metadata": {},
   "source": [
    "### Requirement: Rankings DataFrame\n",
    "\n",
    "For the next few questions, you'll be tasked with analyzing and extracting world university rankings from a pre-saved HTML file, `rankings.html`, adapted from the [CWUR rankings](https://cwur.org/2020-21.php). To ensure efficiency and avoid overloading the original webpage with multiple requests, we've provided a local copy for all students. The goal of this first part is to parse the provided HTML file to collect and analyze data. \n",
    "\n",
    "\n",
    "Use BeautifulSoup to parse `rankings.html`, find the table containing the ranking data, and then save it as a Pandas DataFrame. You do not have to perform any typecasting of the data yet. **This DataFrame will be used in Q2-Q4**\n",
    "\n",
    "**Hint:** Use `find` or `find_all` to identify the table and its header."
   ]
  },
  {
   "cell_type": "code",
   "execution_count": null,
   "id": "f2be6605-e011-407e-b358-d35e910d4da6",
   "metadata": {},
   "outputs": [],
   "source": [
    "# Create Rankings Data Frame"
   ]
  },
  {
   "cell_type": "markdown",
   "id": "7978a569-bcb6-45cd-9d12-dff0e4eb6ff2",
   "metadata": {},
   "source": [
    "### Q2: What is the highest-ranked institution in **Germany**?\n",
    "\n",
    "Your output must be a **string** representing the name of this institution.\n"
   ]
  },
  {
   "cell_type": "code",
   "execution_count": null,
   "id": "7ba66eb8-fd73-49a0-96c7-2958530167eb",
   "metadata": {},
   "outputs": [],
   "source": [
    "#Q2"
   ]
  },
  {
   "cell_type": "markdown",
   "id": "1e1072dd-0c5b-4350-ab89-aa22db2710da",
   "metadata": {},
   "source": [
    "### Q3: List the **lowest 10** institutions in the USA that were ranked **better** than the highest-ranked institution in **Germany**?\n",
    "\n",
    "Your output must be a **list** containing the names of the **lowest 10** universities from USA with a better World Rank than the best German institution. By better ranked, we refer to institutions with a lower value under the `World Rank` column.\n",
    "\n",
    "**Hint:** Get a list of **all** the universities from USA with a better rank than the best ranked German university, and then return the last 10 items of the list.\n",
    "\n",
    "**Important:** Keep in mind that the datatype of the values in the dataframe will initially be `string`. You will need to convert them to `numeric` in order to compare rankings. Consider using `pd.to_numeric()`.\n"
   ]
  },
  {
   "cell_type": "code",
   "execution_count": null,
   "id": "a6798dbf-43c8-4150-bb85-f94d7b07549f",
   "metadata": {},
   "outputs": [],
   "source": [
    "#Q3"
   ]
  },
  {
   "cell_type": "markdown",
   "id": "6712dc8d-d35a-4a4b-8188-763edabc7ac9",
   "metadata": {},
   "source": [
    "### Q4: What are the top five highest-ranked institutions based on `Research Rank` in **India**?\n",
    "\n",
    "Your output must be a **list** of institutions **sorted in increasing order** of their `Research Rank`.\n",
    "\n",
    "**Hint:** For sorting a DataFrame based on the values of a particular column, you can use the `DataFrame.sort_values(by=\"column_name\")` method (where `column_name` is the column on which you want to sort).\n",
    "\n",
    "**Important:** Keep in mind that the datatype of the values in the dataframe will initially be `string`. You will need to convert them to `numeric` in order to compare rankings. Consider using `pd.to_numeric()`.\n"
   ]
  },
  {
   "cell_type": "code",
   "execution_count": null,
   "id": "3d951d45-fdf5-4162-a97c-6960056bec0e",
   "metadata": {},
   "outputs": [],
   "source": [
    "#Q4"
   ]
  },
  {
   "cell_type": "markdown",
   "id": "a1b3dc99-08d6-4f31-bb29-407da7d38029",
   "metadata": {},
   "source": [
    "## Part 2: Project History Analysis\n",
    "\n",
    "We have a copy of the flask repo in `flask.zip`.  Run `unzip flask.zip`.  If `unzip` is not installed, follow the suggestion in the error message to install it. If that suggestion doesn't work, try running it again, but adding `sudo` in front of it. This will run the command with root privileges. Now, try running `unzip flask.zip` again.\n"
   ]
  },
  {
   "cell_type": "markdown",
   "id": "fca235ee-91ca-429b-88af-6c1fdfae5b06",
   "metadata": {},
   "source": [
    "### Q5: What is the first line of output from `git log` when run in the `flask` repo directory?\n",
    "\n",
    "**Important:** Do not remove the first line of code. Because you will use `git checkout` commands (as required for following exercises) to switch the current (HEAD) commit, the output of `git log` will change (it will show the current commit and prior ones, but not future commits).  So you need to run `git checkout main` to bring the HEAD back to the latest commit before your code for this question.  Otherwise your answer to this question might only be correct the first time you run the notebook.\n",
    "\n",
    "If you pass `cwd=\"????\"` to `check_output` with your desired directory, you can run the `git log` command inside the `flask` directory that was created when you ran the `git clone` command.  \"CWD\" stands for \"change working directory\". For example, if I wanted to run `git branch` inside of a directory called `test-directory`, I could run the following code: `check_output([\"git\", \"branch\"], cwd=\"test-directory\")`.\n",
    "\n",
    "The `check_output` function in the `subprocess` module (https://docs.python.org/3.10/library/subprocess.html#subprocess.check_output) returns a byte sequence; consider converting it to a string (\"utf-8\" encoding) and splitting it by newline (`\\n`) to get a list. Save this list as a variable. This will be useful for answering the following questions.\n",
    "\n",
    "**Note:** All code for this question must be written directly in the Jupyter Notebook, and there must not be any hardcoding of values.\n"
   ]
  },
  {
   "cell_type": "code",
   "execution_count": null,
   "id": "318b1f25-6d1e-4bc7-a6db-437e080ef490",
   "metadata": {},
   "outputs": [],
   "source": [
    "check_output([\"git\", \"checkout\", \"main\"], cwd=\"flask\") # DO NOT REMOVE"
   ]
  },
  {
   "cell_type": "code",
   "execution_count": null,
   "id": "ebb94536-df54-4ab2-a9e5-d4e66c17aacb",
   "metadata": {},
   "outputs": [],
   "source": [
    "#Q5"
   ]
  },
  {
   "cell_type": "markdown",
   "id": "f5392137-3f59-4049-b66e-4c0b2054c8a9",
   "metadata": {},
   "source": [
    "### Q6: What are the commit numbers of the 10 earliest commits?\n",
    "\n",
    "Answer with a list. Commits with earlier timestamp should be later in the list. \n",
    "If you created a list in the last question of all of the lines, all you will need to do is filter out the \"commit\" lines, and properly slice that list.\n",
    "(Hint: Since `git log` puts earlier commits later in the output, you don't need to reorder the commits.)\n",
    "\n",
    "**Note:** All code for this question must be written directly in the Jupyter Notebook, and there must not be any hardcoding of values.\n"
   ]
  },
  {
   "cell_type": "code",
   "execution_count": null,
   "id": "a5a1adf0-9cac-42ef-989d-0f2f1a611bc6",
   "metadata": {},
   "outputs": [],
   "source": [
    "#Q6"
   ]
  },
  {
   "cell_type": "markdown",
   "id": "9ab05469-6f24-4803-ae5e-d5553a70727b",
   "metadata": {},
   "source": [
    "### Q7: What did the `README` file contain after the 100th commit?\n",
    "\n",
    "Use `check_output` to run a `git checkout` command to switch to that commit, before reading `flask/README` the way you would read any regular text file in Python (using `open` and `.read`).\n",
    "\n",
    "**Note**: If you are not able to find a file called `flask/README` and instead see `flask/README.md` or `flask/README.rst`, then you are on the wrong commit.\n",
    "\n",
    "**Note:** All code for this question must be written directly in the Jupyter Notebook, and there must not be any hardcoding of values.\n",
    "\n"
   ]
  },
  {
   "cell_type": "code",
   "execution_count": null,
   "id": "11235bbd-fd20-4dc9-9000-d5cf31a02c99",
   "metadata": {},
   "outputs": [],
   "source": [
    "#Q7"
   ]
  },
  {
   "cell_type": "markdown",
   "id": "40d4da56-19e2-4409-acb4-77b6b7a51fe3",
   "metadata": {},
   "source": [
    "### Q8: How many pull requests were merged from each GitHub user?  Only output users who appear 10 or more times.\n",
    "\n",
    "When running `git log`, you'll see some entries like this:\n",
    "\n",
    "```\n",
    "commit 7b0c82dfdc867641dd6e1b200f735bffd66e4c12\n",
    "Merge: c5ca1750 a841cfab\n",
    "Author: David Lord <davidism@gmail.com>\n",
    "Date:   Wed Dec 22 17:10:24 2021 -0800\n",
    "\n",
    "    Merge pull request #4350 from olliemath/patch-1\n",
    "    \n",
    "    Only use a custom JSONDecoder if needed\n",
    "```\n",
    "\n",
    "This means the code was approved by David Lord (who has permission to make changes), but the code change was written and proposed by olliemath.\n",
    "\n",
    "Whenever a line from `git log` contains the text \"Merge pull request\" and \"/\", extract the username immediately before the \"/\".  Count occurrences of usernames in a dictionary like the following:\n",
    "\n",
    "```\n",
    "{'pallets': 204,\n",
    " 'pgjones': 14,\n",
    " 'greyli': 42,\n",
    " 'ThiefMaster': 11,\n",
    " 'davidism': 45,\n",
    " 'untitaker': 20,\n",
    " 'ThomasWaldmann': 13,\n",
    " 'SimonSapin': 11}\n",
    "```\n",
    "\n",
    "**Note**: There will be some entries like the following that are actually undoing a pull request:\n",
    "\n",
    "```\n",
    "Revert \"Merge pull request #859 from wvh/register_error_handler\"\n",
    "```\n",
    "\n",
    "For simplicity, we'll count these just like the original pull requests.\n",
    "\n",
    "**Important:** If your values are off/incorrect, it is likely that you are on the wrong branch/commit. Make sure that you are on **main**. \n",
    "\n",
    "**Note:** All code for this question must be written directly in the Jupyter Notebook, and there must not be any hardcoding of values.\n"
   ]
  },
  {
   "cell_type": "code",
   "execution_count": null,
   "id": "f7454545-22fe-40aa-a9b8-736cef214aed",
   "metadata": {},
   "outputs": [],
   "source": [
    "check_output([\"git\", \"checkout\", \"main\"], cwd=\"flask\") # DO NOT REMOVE"
   ]
  },
  {
   "cell_type": "code",
   "execution_count": null,
   "id": "b0b1b2bd-1843-4a68-9bc3-d16075406d8f",
   "metadata": {},
   "outputs": [],
   "source": [
    "#Q8"
   ]
  },
  {
   "cell_type": "markdown",
   "id": "4f96a404-38aa-4ab2-84ab-cc68d4b9a046",
   "metadata": {},
   "source": [
    "### Q9: What is the output of `pip3 instal`?  (yes, the misspelling was intentional)\n",
    "\n",
    "This one will be difficult because the command will fail, triggering\n",
    "an exception.  First, run this by itself to determine what exception\n",
    "type is thrown in this circumstance:\n",
    "\n",
    "```python\n",
    "check_output([\"pip3\", \"instal\"])\n",
    "```\n",
    "\n",
    "Now, adapt this code to get the output, regardless of whether the program runs or fails:\n",
    "\n",
    "Search the page here to learn about the exception type, and import it: https://docs.python.org/3/library/subprocess.html\n",
    "\n",
    "Then, use that information to catch exceptions of that type (fill in the missing exception type):\n",
    "\n",
    "```python\n",
    "import subprocess\n",
    "\n",
    "try:\n",
    "    msg = check_output([\"pip3\", \"instal\"], stderr=subprocess.STDOUT)\n",
    "except subprocess.???? as e:\n",
    "    msg = e.output\n",
    "```\n",
    "\n",
    "Note that `stderr=subprocess.STDOUT` tells `check_output` that error\n",
    "messages should be treated as regular output -- that lets us capture\n",
    "the output with `e.output`.\n",
    "\n",
    "**Hint:** Consider using `decode()` to convert binary outputs to string type.\n",
    "\n",
    "**Note:** All code for this question must be written directly in the Jupyter Notebook, and there must not be any hardcoding of values.\n"
   ]
  },
  {
   "cell_type": "code",
   "execution_count": null,
   "id": "12dd11d6-7f75-4110-b115-13428e637b09",
   "metadata": {},
   "outputs": [],
   "source": [
    "#Q9"
   ]
  },
  {
   "cell_type": "markdown",
   "id": "735fa21a-c685-459a-9864-f0e50f21d32b",
   "metadata": {},
   "source": [
    "## Part 3: Benchmarking\n",
    "\n",
    "In this final part of the machine project, we will work on some benchmarking. This will allow us\n",
    "to time things to see how long they take which gives us a good idea as to what methods\n",
    "or functions are faster. It is recommended that you try to remember that we did this testing\n",
    "as we will be using these functions throughout the semester and opting for the faster options\n",
    "will optimize you code later in the semester."
   ]
  },
  {
   "cell_type": "markdown",
   "id": "34c4d347-c870-4cbe-b8b0-21abd9dd8c1d",
   "metadata": {},
   "source": [
    "### Q10: What is faster for looping over a DataFrame, `iterrows` or `itertuples`?\n",
    "\n",
    "We'll want to generate test data of various sizes. The actual values of this data is irrelevant, we just need something to loop through for timing of different methods. Use the provided function `rand_df` for that purpose.\n",
    "\n",
    "Answer with a plot as follows:\n",
    "* x-axis is number of number of rows in a DataFrame\n",
    "* y-axis is milliseconds is how long it takes to loop over the DataFrame\n",
    "* two lines: one for `iterrows` and one for `itertuples`\n",
    "\n",
    "You can generate a random DataFrame with 500 rows like this:\n",
    "\n",
    "```python\n",
    "df = rand_df(500)\n",
    "```\n",
    "\n",
    "And then you can take a measurement like this:\n",
    "\n",
    "```python\n",
    "import time\n",
    "\n",
    "t0 = time.time()\n",
    "# HOW LONG DOES THIS TAKE TO RUN, FOR DATAFRAMES WITH DIFFERENT NUMBERS OF ROWS?\n",
    "for row in df.iterrows():\n",
    "    pass\n",
    "t1 = time.time()\n",
    "```\n",
    "\n",
    "Your plot should look something like this. Some noise is OK as long as you get the same general shape (we get a slightly different plot each time we measure ourselves).\n",
    "\n",
    "**_Make sure to include a title, axis labels, and a legend_**\n",
    "\n",
    "**Important:** The labels of the lines must be `iterrows` and `itertuples` as shown below\n",
    "\n",
    "<img src=\"img/q10.png\" width=\"400px\">"
   ]
  },
  {
   "cell_type": "code",
   "execution_count": null,
   "id": "f17a7eda-0ed9-4ca8-bafe-ae2f090f9fe3",
   "metadata": {},
   "outputs": [],
   "source": [
    "def rand_df(rows):\n",
    "    return pd.DataFrame(np.random.randint(10, size=(rows, 5)),\n",
    "                        columns=[\"A\", \"B\", \"C\", \"D\", \"E\"],\n",
    "                        index=[f\"r{i}\" for i in range(1, rows+1)])"
   ]
  },
  {
   "cell_type": "code",
   "execution_count": null,
   "id": "b39adaba-29b6-4687-9320-fe90509e7b77",
   "metadata": {},
   "outputs": [],
   "source": [
    "#Q10\n",
    "\n",
    "# ADD CODE HERE\n",
    "\n",
    "fig, ax = plt.subplots()\n",
    "\n",
    "# PLOT HERE\n",
    "\n",
    "# IMPORTANT -- Do not remove -- \n",
    "with open(\"Q10.pkl\", \"wb\") as f:\n",
    "    pickle.dump(fig, f)\n",
    "\n",
    "# Display the plot\n",
    "plt.show()\n",
    "plt.close()"
   ]
  },
  {
   "cell_type": "code",
   "execution_count": 1,
   "id": "891633b2-e07f-427f-9d5c-6f5209ddb1bf",
   "metadata": {},
   "outputs": [
    {
     "data": {
      "text/plain": [
       "0"
      ]
     },
     "execution_count": 1,
     "metadata": {},
     "output_type": "execute_result"
    }
   ],
   "source": [
    "a = []\n",
    "len(a)"
   ]
  },
  {
   "cell_type": "markdown",
   "id": "ab47790b-0b6a-45a6-885b-f92996710342",
   "metadata": {},
   "source": [
    "### Q11: What is faster, `loc`, or `at`?\n",
    "\n",
    "Answer with a line plot, similar to the one for the previous question.  Here is a code snippet to use for the measurement (adapt to measure `.at` as well):\n",
    "\n",
    "```python\n",
    "# HOW LONG DOES THIS TAKE TO RUN, FOR DATAFRAMES WITH DIFFERENT NUMBERS OF ROWS?\n",
    "total = 0\n",
    "for idx in df.index:\n",
    "    for col in df.columns:\n",
    "        total += df.loc[idx, col]\n",
    "```\n",
    "\n",
    "**_Make sure to include a title, axis labels, and a legend_**\n",
    "\n",
    "**Important:** The labels of the lines must be `.loc` and `.at` as shown below\n",
    "\n",
    "<img src=\"img/q11.png\" width=\"400px\">"
   ]
  },
  {
   "cell_type": "code",
   "execution_count": null,
   "id": "d6576ce3-580e-4e35-ae20-f059e78d91fa",
   "metadata": {},
   "outputs": [],
   "source": [
    "#Q11\n",
    "\n",
    "# ADD CODE HERE\n",
    "\n",
    "\n",
    "fig, ax = plt.subplots()\n",
    "\n",
    "# PLOT HERE\n",
    "\n",
    "# IMPORTANT -- Do not remove -- \n",
    "with open(\"Q11.pkl\", \"wb\") as f:\n",
    "    pickle.dump(fig, f)\n",
    "\n",
    "plt.show()\n",
    "plt.close(fig)"
   ]
  },
  {
   "cell_type": "markdown",
   "id": "46d3b7ec-bde2-4ca6-97a9-3bf11ead0794",
   "metadata": {},
   "source": [
    "### Q12: What is faster, a loop or `.apply`?\n",
    "\n",
    "Answer this one with a line plot similar to the last two.  You should, however, have measurements going up to 20000 rows.\n",
    "\n",
    "The two code snippets to measure:\n",
    "\n",
    "```python\n",
    "# HOW LONG DOES THIS TAKE TO RUN, FOR DATAFRAMES WITH DIFFERENT NUMBERS OF ROWS?\n",
    "result = df[\"A\"].apply(laugh).tolist()\n",
    "```\n",
    "\n",
    "AND\n",
    "\n",
    "```python\n",
    "# HOW LONG DOES THIS TAKE TO RUN, FOR DATAFRAMES WITH DIFFERENT NUMBERS OF ROWS?\n",
    "result = []\n",
    "for val in df[\"A\"]:\n",
    "    result.append(laugh(val))\n",
    "```\n",
    "\n",
    "Use the `laugh` function provided below\n",
    "\n",
    "**_Make sure to include a title, axis labels, and a legend_**\n",
    "\n",
    "**Important:** The labels of the lines must be `apply` and `loop` as shown below\n",
    "\n",
    "<img src=\"img/q12.png\" width=\"400px\">"
   ]
  },
  {
   "cell_type": "code",
   "execution_count": null,
   "id": "d662f3e8-2983-487c-9f76-de75091a94e1",
   "metadata": {},
   "outputs": [],
   "source": [
    "def laugh(x):\n",
    "    return \"qwerty\" * x"
   ]
  },
  {
   "cell_type": "code",
   "execution_count": null,
   "id": "2c116821-312b-46bc-959f-d3e17b2149e9",
   "metadata": {},
   "outputs": [],
   "source": [
    "#Q12\n",
    "\n",
    "# ADD CODE HERE\n",
    "\n",
    "fig, ax = plt.subplots()\n",
    "\n",
    "# PLOT HERE\n",
    "\n",
    "# IMPORTANT -- Do not remove -- \n",
    "with open(\"Q12.pkl\", \"wb\") as f:\n",
    "    pickle.dump(fig, f)\n",
    "\n",
    "plt.show()\n",
    "plt.close(fig)"
   ]
  }
 ],
 "metadata": {
  "kernelspec": {
   "display_name": "Python 3 (ipykernel)",
   "language": "python",
   "name": "python3"
  },
  "language_info": {
   "codemirror_mode": {
    "name": "ipython",
    "version": 3
   },
   "file_extension": ".py",
   "mimetype": "text/x-python",
   "name": "python",
   "nbconvert_exporter": "python",
   "pygments_lexer": "ipython3",
   "version": "3.10.12"
  }
 },
 "nbformat": 4,
 "nbformat_minor": 5
}
