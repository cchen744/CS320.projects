{
 "cells": [
  {
   "cell_type": "code",
   "execution_count": 2,
   "id": "04da5f38-369a-4544-9258-2ee5234ec19c",
   "metadata": {},
   "outputs": [],
   "source": [
    "import importlib\n",
    "from bs4 import BeautifulSoup\n",
    "import json\n",
    "import os\n",
    "import re\n",
    "import sys\n",
    "import time\n",
    "import traceback\n",
    "from collections import namedtuple\n",
    "from datetime import datetime\n",
    "from io import StringIO, BytesIO\n",
    "from xml.etree import ElementTree as ET\n",
    "from urllib.robotparser import RobotFileParser\n",
    "from io import StringIO\n",
    "\n",
    "import numpy as np\n",
    "import pandas as pd"
   ]
  },
  {
   "cell_type": "code",
   "execution_count": 5,
   "id": "a849ce94-26ae-46f6-a64b-32639127c8ea",
   "metadata": {},
   "outputs": [
    {
     "ename": "NameError",
     "evalue": "name 'test' is not defined",
     "output_type": "error",
     "traceback": [
      "\u001b[0;31m---------------------------------------------------------------------------\u001b[0m",
      "\u001b[0;31mNameError\u001b[0m                                 Traceback (most recent call last)",
      "Cell \u001b[0;32mIn[5], line 69\u001b[0m\n\u001b[1;32m     65\u001b[0m         points \u001b[38;5;241m+\u001b[39m\u001b[38;5;241m=\u001b[39m \u001b[38;5;241m2\u001b[39m\n\u001b[1;32m     67\u001b[0m     \u001b[38;5;28;01mreturn\u001b[39;00m points\n\u001b[0;32m---> 69\u001b[0m \u001b[38;5;129m@test\u001b[39m(points\u001b[38;5;241m=\u001b[39m\u001b[38;5;241m25\u001b[39m)\n\u001b[1;32m     70\u001b[0m \u001b[38;5;28;01mdef\u001b[39;00m\u001b[38;5;250m \u001b[39m\u001b[38;5;21mab_test\u001b[39m():\n\u001b[1;32m     71\u001b[0m     points \u001b[38;5;241m=\u001b[39m \u001b[38;5;241m0\u001b[39m\n\u001b[1;32m     72\u001b[0m     points \u001b[38;5;241m+\u001b[39m\u001b[38;5;241m=\u001b[39m ab_test_helper(click_through\u001b[38;5;241m=\u001b[39m[\u001b[38;5;241m0\u001b[39m], best\u001b[38;5;241m=\u001b[39m\u001b[38;5;241m0\u001b[39m)\n",
      "\u001b[0;31mNameError\u001b[0m: name 'test' is not defined"
     ]
    }
   ],
   "source": [
    "def ab_test_helper(click_through=[], best=0):\n",
    "    importlib.reload(main_mod)\n",
    "    points = 0\n",
    "\n",
    "    visits = 20  # how many times should we hit home page?\n",
    "    learn = 10  # how many times does it try both before deciding?\n",
    "    html = []  # HTML loaded from page for each visit\n",
    "\n",
    "    for i in range(visits):\n",
    "        status, headers, body = app_req(\"/\")\n",
    "        page = BeautifulSoup(body, \"lxml\")\n",
    "        links = page.find_all(\"a\", href=re.compile(\"donate.html\\S*\"))\n",
    "        links = [link[\"href\"] for link in links]\n",
    "        if len(links) != 1:\n",
    "            print(\"expected exactly one link to donate, but found\", links)\n",
    "            return 0\n",
    "        if status != \"200 OK\":\n",
    "            print(\"could not visit /\")\n",
    "            return 0\n",
    "\n",
    "        html.append(body) #\n",
    "\n",
    "        if i in click_through:\n",
    "            status, headers, body = app_req(links[0])\n",
    "            print(headers)\n",
    "            if status != \"200 OK\":\n",
    "                print(\"could not visit \" + links[0])\n",
    "                return 0\n",
    "\n",
    "    def _transform(html: str):\n",
    "        # regex didn't work with one of the submissions that had to be reran\n",
    "        return html.replace('donate.html?from=A', '').replace('donate.html?from=B', '') \n",
    "\n",
    "    # phase 1: alternate\n",
    "    for i in range(1, learn):\n",
    "        # breakpoint()\n",
    "        if _transform(html[i]) == _transform(html[i - 1]):\n",
    "            if html[i] == html[i - 1]:\n",
    "                print(\"(a) did not alternate html in first %d visits\" % learn)\n",
    "                return points\n",
    "            else:\n",
    "\n",
    "                global only_varied_query_str\n",
    "                only_varied_query_str = True\n",
    "        if i > 1 and html[i] != html[i - 2]:\n",
    "            print(\"(b) did not alternate html in first %d visits\" % learn)\n",
    "            return points\n",
    "\n",
    "    if only_varied_query_str:\n",
    "        print(\"alternated between versions, but they only differ at the query string.\")\n",
    "\n",
    "    points += 1\n",
    "\n",
    "    # phase 2: same\n",
    "    for i in range(learn + 1, visits):\n",
    "        if html[i] != html[i - 1]:\n",
    "            print(\"did not consistently show same page after first %d visits\" % learn)\n",
    "            return points\n",
    "    points += 2\n",
    "    \n",
    "    print(f\"Final best version chosen: {html[best]}\") # debugger\n",
    "    \n",
    "    # did they choose the best for phase 2?\n",
    "    if html[learn] != html[best]:\n",
    "        print(\"did not choose the best version\")\n",
    "    else:\n",
    "        points += 2\n",
    "    \n",
    "    return points\n",
    "\n",
    "@test(points=25)\n",
    "def ab_test():\n",
    "    points = 0\n",
    "    points += ab_test_helper(click_through=[0], best=0)\n",
    "    points += ab_test_helper(click_through=[1], best=1)\n",
    "    points += ab_test_helper(click_through=[0, 2, 4, 6, 8, 3, 5, 7, 9], best=0)\n",
    "    points += ab_test_helper(click_through=[2, 4, 6, 8, 1, 3, 5, 7, 9], best=1)\n",
    "    points += ab_test_helper(click_through=[2, 4, 6, 8, 5, 7, 9], best=0)\n",
    "\n",
    "    if only_varied_query_str:\n",
    "        points -= 2\n",
    "    return points"
   ]
  },
  {
   "cell_type": "code",
   "execution_count": 3,
   "id": "c88f244c-a1e6-4507-bfb5-1cb556dce4f6",
   "metadata": {},
   "outputs": [
    {
     "name": "stdout",
     "output_type": "stream",
     "text": [
      "Usage: python3 test.py [mod_name]\n"
     ]
    },
    {
     "ename": "SystemExit",
     "evalue": "1",
     "output_type": "error",
     "traceback": [
      "An exception has occurred, use %tb to see the full traceback.\n",
      "\u001b[0;31mSystemExit\u001b[0m\u001b[0;31m:\u001b[0m 1\n"
     ]
    },
    {
     "name": "stderr",
     "output_type": "stream",
     "text": [
      "/home/chenchenmengmeng/.local/lib/python3.10/site-packages/IPython/core/interactiveshell.py:3585: UserWarning: To exit: use 'exit', 'quit', or Ctrl-D.\n",
      "  warn(\"To exit: use 'exit', 'quit', or Ctrl-D.\", stacklevel=1)\n"
     ]
    }
   ],
   "source": [
    "def main():\n",
    "    # import main.py (or other, if specified)\n",
    "    mod_name = \"main\"\n",
    "    if len(sys.argv) > 2:\n",
    "        print(\"Usage: python3 test.py [mod_name]\")\n",
    "        sys.exit(1)\n",
    "    elif len(sys.argv) == 2:\n",
    "        mod_name = sys.argv[1]\n",
    "\n",
    "    run_all_tests(mod_name)\n",
    "\n",
    "\n",
    "if __name__ == \"__main__\":\n",
    "    main()"
   ]
  },
  {
   "cell_type": "code",
   "execution_count": 6,
   "id": "51c5d273-de14-41c4-b95b-735335263186",
   "metadata": {},
   "outputs": [
    {
     "data": {
      "text/plain": [
       "1"
      ]
     },
     "execution_count": 6,
     "metadata": {},
     "output_type": "execute_result"
    }
   ],
   "source": [
    "1%2"
   ]
  },
  {
   "cell_type": "code",
   "execution_count": null,
   "id": "b67e8384-a6fd-4611-8aeb-d35c3caac990",
   "metadata": {},
   "outputs": [],
   "source": []
  }
 ],
 "metadata": {
  "kernelspec": {
   "display_name": "Python 3 (ipykernel)",
   "language": "python",
   "name": "python3"
  },
  "language_info": {
   "codemirror_mode": {
    "name": "ipython",
    "version": 3
   },
   "file_extension": ".py",
   "mimetype": "text/x-python",
   "name": "python",
   "nbconvert_exporter": "python",
   "pygments_lexer": "ipython3",
   "version": "3.10.12"
  }
 },
 "nbformat": 4,
 "nbformat_minor": 5
}
