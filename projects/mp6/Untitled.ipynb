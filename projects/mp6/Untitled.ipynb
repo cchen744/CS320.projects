{
 "cells": [
  {
   "cell_type": "code",
   "execution_count": 2,
   "id": "cf4bc151-2df1-40b1-a250-cb52b392f7b3",
   "metadata": {},
   "outputs": [],
   "source": [
    "%load_ext autoreload\n",
    "%autoreload 2"
   ]
  },
  {
   "cell_type": "code",
   "execution_count": 3,
   "id": "9b57d2c2-4009-484b-bd5b-2fc0d45314e2",
   "metadata": {},
   "outputs": [
    {
     "name": "stdout",
     "output_type": "stream",
     "text": [
      "A\tB\n"
     ]
    }
   ],
   "source": [
    "print(\"A\\tB\") \n",
    "import pandas as pd"
   ]
  },
  {
   "cell_type": "code",
   "execution_count": 4,
   "id": "78c8f3f2-3bfa-466c-86f2-fa1e1e03ec80",
   "metadata": {},
   "outputs": [
    {
     "data": {
      "text/plain": [
       "'101.1.1.000'"
      ]
     },
     "execution_count": 4,
     "metadata": {},
     "output_type": "execute_result"
    }
   ],
   "source": [
    "import re\n",
    "ipaddr = \"101.1.1.abc\"\n",
    "re.sub(r'[A-Za-z]', '0', ipaddr)"
   ]
  },
  {
   "cell_type": "code",
   "execution_count": 5,
   "id": "6c889546-9435-41e9-beb4-ad5f36efff3d",
   "metadata": {},
   "outputs": [
    {
     "data": {
      "text/plain": [
       "1694564608"
      ]
     },
     "execution_count": 5,
     "metadata": {},
     "output_type": "execute_result"
    }
   ],
   "source": [
    "import netaddr\n",
    "int(netaddr.IPAddress('101.1.1.000'))"
   ]
  },
  {
   "cell_type": "code",
   "execution_count": 6,
   "id": "b416312e-5702-449a-b2ae-61c8edf8b33f",
   "metadata": {},
   "outputs": [],
   "source": [
    "L = [1, 2, 100, 222, 900]"
   ]
  },
  {
   "cell_type": "code",
   "execution_count": 7,
   "id": "eba16a3f-4ba1-4953-bb89-1ba9aab96ba0",
   "metadata": {},
   "outputs": [
    {
     "data": {
      "text/plain": [
       "3"
      ]
     },
     "execution_count": 7,
     "metadata": {},
     "output_type": "execute_result"
    }
   ],
   "source": [
    "from bisect import bisect\n",
    "idx = bisect(L, 150)\n",
    "idx"
   ]
  },
  {
   "cell_type": "code",
   "execution_count": 8,
   "id": "ed166557-4f82-41f5-9dce-ea9113e59a93",
   "metadata": {},
   "outputs": [
    {
     "data": {
      "text/plain": [
       "4"
      ]
     },
     "execution_count": 8,
     "metadata": {},
     "output_type": "execute_result"
    }
   ],
   "source": [
    "bisect(L, 255)"
   ]
  },
  {
   "cell_type": "code",
   "execution_count": 9,
   "id": "63a589cb-9172-4ddd-bdee-4b574b084732",
   "metadata": {},
   "outputs": [
    {
     "data": {
      "text/html": [
       "<div>\n",
       "<style scoped>\n",
       "    .dataframe tbody tr th:only-of-type {\n",
       "        vertical-align: middle;\n",
       "    }\n",
       "\n",
       "    .dataframe tbody tr th {\n",
       "        vertical-align: top;\n",
       "    }\n",
       "\n",
       "    .dataframe thead th {\n",
       "        text-align: right;\n",
       "    }\n",
       "</style>\n",
       "<table border=\"1\" class=\"dataframe\">\n",
       "  <thead>\n",
       "    <tr style=\"text-align: right;\">\n",
       "      <th></th>\n",
       "      <th>low</th>\n",
       "      <th>high</th>\n",
       "      <th>code</th>\n",
       "      <th>region</th>\n",
       "    </tr>\n",
       "  </thead>\n",
       "  <tbody>\n",
       "    <tr>\n",
       "      <th>0</th>\n",
       "      <td>0</td>\n",
       "      <td>16777215</td>\n",
       "      <td>-</td>\n",
       "      <td>-</td>\n",
       "    </tr>\n",
       "    <tr>\n",
       "      <th>1</th>\n",
       "      <td>16777216</td>\n",
       "      <td>16777471</td>\n",
       "      <td>US</td>\n",
       "      <td>United States of America</td>\n",
       "    </tr>\n",
       "    <tr>\n",
       "      <th>2</th>\n",
       "      <td>16777472</td>\n",
       "      <td>16778239</td>\n",
       "      <td>CN</td>\n",
       "      <td>China</td>\n",
       "    </tr>\n",
       "    <tr>\n",
       "      <th>3</th>\n",
       "      <td>16778240</td>\n",
       "      <td>16779263</td>\n",
       "      <td>AU</td>\n",
       "      <td>Australia</td>\n",
       "    </tr>\n",
       "    <tr>\n",
       "      <th>4</th>\n",
       "      <td>16779264</td>\n",
       "      <td>16781311</td>\n",
       "      <td>CN</td>\n",
       "      <td>China</td>\n",
       "    </tr>\n",
       "    <tr>\n",
       "      <th>...</th>\n",
       "      <td>...</td>\n",
       "      <td>...</td>\n",
       "      <td>...</td>\n",
       "      <td>...</td>\n",
       "    </tr>\n",
       "    <tr>\n",
       "      <th>174967</th>\n",
       "      <td>3758094336</td>\n",
       "      <td>3758095359</td>\n",
       "      <td>HK</td>\n",
       "      <td>Hong Kong</td>\n",
       "    </tr>\n",
       "    <tr>\n",
       "      <th>174968</th>\n",
       "      <td>3758095360</td>\n",
       "      <td>3758095871</td>\n",
       "      <td>CN</td>\n",
       "      <td>China</td>\n",
       "    </tr>\n",
       "    <tr>\n",
       "      <th>174969</th>\n",
       "      <td>3758095872</td>\n",
       "      <td>3758096127</td>\n",
       "      <td>SG</td>\n",
       "      <td>Singapore</td>\n",
       "    </tr>\n",
       "    <tr>\n",
       "      <th>174970</th>\n",
       "      <td>3758096128</td>\n",
       "      <td>3758096383</td>\n",
       "      <td>AU</td>\n",
       "      <td>Australia</td>\n",
       "    </tr>\n",
       "    <tr>\n",
       "      <th>174971</th>\n",
       "      <td>3758096384</td>\n",
       "      <td>4294967295</td>\n",
       "      <td>-</td>\n",
       "      <td>-</td>\n",
       "    </tr>\n",
       "  </tbody>\n",
       "</table>\n",
       "<p>174972 rows × 4 columns</p>\n",
       "</div>"
      ],
      "text/plain": [
       "               low        high code                    region\n",
       "0                0    16777215    -                         -\n",
       "1         16777216    16777471   US  United States of America\n",
       "2         16777472    16778239   CN                     China\n",
       "3         16778240    16779263   AU                 Australia\n",
       "4         16779264    16781311   CN                     China\n",
       "...            ...         ...  ...                       ...\n",
       "174967  3758094336  3758095359   HK                 Hong Kong\n",
       "174968  3758095360  3758095871   CN                     China\n",
       "174969  3758095872  3758096127   SG                 Singapore\n",
       "174970  3758096128  3758096383   AU                 Australia\n",
       "174971  3758096384  4294967295    -                         -\n",
       "\n",
       "[174972 rows x 4 columns]"
      ]
     },
     "execution_count": 9,
     "metadata": {},
     "output_type": "execute_result"
    }
   ],
   "source": [
    "ips = pd.read_csv(\"ip2location.csv\")\n",
    "ips"
   ]
  },
  {
   "cell_type": "code",
   "execution_count": 10,
   "id": "369b141f-63c5-4eba-9726-ca9ff30bc06c",
   "metadata": {},
   "outputs": [
    {
     "data": {
      "text/plain": [
       "1694564608"
      ]
     },
     "execution_count": 10,
     "metadata": {},
     "output_type": "execute_result"
    }
   ],
   "source": [
    "int(netaddr.IPAddress('101.1.1.000'))"
   ]
  },
  {
   "cell_type": "code",
   "execution_count": 11,
   "id": "ef01abcd-d77d-4164-9b93-a177edb4a6c1",
   "metadata": {},
   "outputs": [
    {
     "data": {
      "text/plain": [
       "60614"
      ]
     },
     "execution_count": 11,
     "metadata": {},
     "output_type": "execute_result"
    }
   ],
   "source": [
    "bisect(ips['low'],int(netaddr.IPAddress('101.1.1.000')))"
   ]
  },
  {
   "cell_type": "code",
   "execution_count": 12,
   "id": "24de2bb5-61fa-4f65-8036-927deade1727",
   "metadata": {},
   "outputs": [
    {
     "data": {
      "text/plain": [
       "low       1694564352\n",
       "high      1694565375\n",
       "code              CN\n",
       "region         China\n",
       "Name: 60613, dtype: object"
      ]
     },
     "execution_count": 12,
     "metadata": {},
     "output_type": "execute_result"
    }
   ],
   "source": [
    "ips.iloc[60614-1]"
   ]
  },
  {
   "cell_type": "code",
   "execution_count": 13,
   "id": "30c82e7e-dbb3-4dfb-98fb-2f7702c8f9c3",
   "metadata": {},
   "outputs": [],
   "source": [
    "import edgar_utils"
   ]
  },
  {
   "cell_type": "code",
   "execution_count": 14,
   "id": "16f708e8-2c2b-44f5-8df3-214595909481",
   "metadata": {},
   "outputs": [
    {
     "data": {
      "text/plain": [
       "'China'"
      ]
     },
     "execution_count": 14,
     "metadata": {},
     "output_type": "execute_result"
    }
   ],
   "source": [
    "edgar_utils.lookup_region(\"101.1.1.abc\")"
   ]
  },
  {
   "cell_type": "code",
   "execution_count": 16,
   "id": "1aaa0cfd-7ab0-4b83-83af-f892a6900333",
   "metadata": {},
   "outputs": [
    {
     "data": {
      "text/plain": [
       "'United States of America'"
      ]
     },
     "execution_count": 16,
     "metadata": {},
     "output_type": "execute_result"
    }
   ],
   "source": [
    "edgar_utils.lookup_region(\"1.1.1.x\")"
   ]
  },
  {
   "cell_type": "code",
   "execution_count": 17,
   "id": "f4688907-8ed3-4e12-ba65-a8a90cd4e7c0",
   "metadata": {},
   "outputs": [],
   "source": [
    "html = \"\"\"<!DOCTYPE HTML PUBLIC \"-//W3C//DTD HTML 4.01 Transitional//EN\" \"http://www.w3.org/TR/html4/loose.dtd\">\n",
    "<html xmlns=\"http://www.w3.org/1999/xhtml\">\n",
    "<head>\n",
    "<meta http-equiv=\"Content-Type\" content=\"text/html; charset=utf-8\" />\n",
    "<meta http-equiv=\"Last-Modified\" content=\"Fri, 12 Feb 2016 00:05:37 GMT\" />\n",
    "<title>EDGAR Filing Documents for 0001050470-16-000051</title>\n",
    "<link rel=\"stylesheet\" type=\"text/css\" href=\"/include/interactive.css\" />\n",
    "</head>\n",
    "<body style=\"margin: 0\">\n",
    "<!-- SEC Web Analytics - For information please visit: https://www.sec.gov/privacy.htm#collectedinfo -->\n",
    "<noscript><iframe src=\"//www.googletagmanager.com/ns.html?id=GTM-TD3BKV\"\n",
    "height=\"0\" width=\"0\" style=\"display:none;visibility:hidden\"></iframe></noscript>\n",
    "<script>(function(w,d,s,l,i){w[l]=w[l]||[];w[l].push({'gtm.start':\n",
    "new Date().getTime(),event:'gtm.js'});var f=d.getElementsByTagName(s)[0],\n",
    "j=d.createElement(s),dl=l!='dataLayer'?'&l='+l:'';j.async=true;j.src=\n",
    "'//www.googletagmanager.com/gtm.js?id='+i+dl;f.parentNode.insertBefore(j,f);\n",
    "})(window,document,'script','dataLayer','GTM-TD3BKV');</script>\n",
    "<!-- End SEC Web Analytics -->\n",
    "<noscript><div style=\"color:red; font-weight:bold; text-align:center;\">This page uses Javascript. Your browser either doesn't support Javascript or you have it turned off. To see this page as it is meant to appear please use a Javascript enabled browser.</div></noscript>\n",
    "<!-- BEGIN BANNER -->\n",
    "<div id=\"headerTop\">\n",
    "   <div id=\"Nav\"><a href=\"/index.htm\">Home</a> | <a href=\"/cgi-bin/browse-edgar?action=getcurrent\">Latest Filings</a> | <a href=\"javascript:history.back()\">Previous Page</a></div>\n",
    "   <div id=\"seal\"><a href=\"/index.htm\"><img src=\"/images/sealTop.gif\" alt=\"SEC Seal\" border=\"0\" /></a></div>\n",
    "   <div id=\"secWordGraphic\"><img src=\"/images/bannerTitle.gif\" alt=\"SEC Banner\" /></div>\n",
    "</div>\n",
    "<div id=\"headerBottom\">\n",
    "   <div id=\"searchHome\"><a href=\"/edgar/searchedgar/webusers.htm\">Search the Next-Generation EDGAR System</a></div>\n",
    "   <div id=\"PageTitle\">Filing Detail</div>\n",
    "</div>\n",
    "<!-- END BANNER -->\n",
    "\n",
    "\n",
    "<!-- BEGIN BREADCRUMBS -->\n",
    "<div id=\"breadCrumbs\">\n",
    "   <ul>\n",
    "      <li><a href=\"/index.htm\">SEC Home</a> &#187;</li>\n",
    "      <li><a href=\"/edgar/searchedgar/webusers.htm\">Search the Next-Generation EDGAR System</a> &#187;</li>\n",
    "      <li><a href=\"/edgar/searchedgar/companysearch.html\">Company Search</a> &#187;</li>\n",
    "      <li class=\"last\">Current Page</li>\n",
    "   </ul>\n",
    "</div>\n",
    "<!-- END BREADCRUMBS -->\n",
    "\n",
    "<div id=\"contentDiv\">\n",
    "<!-- START FILING DIV -->\n",
    "<div id=\"formDiv\">\n",
    "   <div id=\"formHeader\">\n",
    "      <div id=\"formName\">\n",
    "         <strong>Form SC 13G</strong> - Statement of acquisition of beneficial ownership by individuals: \n",
    "      </div>\n",
    "      <div id=\"secNum\">\n",
    "         <strong><acronym title=\"Securities and Exchange Commission\">SEC</acronym> Accession <acronym title=\"Number\">No.</acronym></strong> 0001050470-16-000051\n",
    "      </div>\n",
    "   </div>\n",
    "   <div class=\"formContent\">\n",
    "      <div class=\"formGrouping\">\n",
    "         <div class=\"infoHead\">Filing Date</div>\n",
    "         <div class=\"info\">2016-02-12</div>\n",
    "         <div class=\"infoHead\">Accepted</div>\n",
    "         <div class=\"info\">2016-02-11 19:05:37</div>\n",
    "         <div class=\"infoHead\">Documents</div>\n",
    "         <div class=\"info\">1</div>\n",
    "      </div>\n",
    "      <div style=\"clear:both\"></div>\n",
    "   </div>\n",
    "</div>\n",
    "<!-- END FILING DIV -->\n",
    "<!-- START DOCUMENT DIV -->\n",
    "<div id=\"formDiv\">\n",
    "   <div style=\"padding: 0px 0px 4px 0px; font-size: 12px; margin: 0px 2px 0px 5px; width: 100%; overflow:hidden\">\n",
    "      <p>Document Format Files</p>\n",
    "      <table class=\"tableFile\" summary=\"Document Format Files\">\n",
    "         <tr>\n",
    "            <th scope=\"col\" style=\"width: 5%;\"><acronym title=\"Sequence Number\">Seq</acronym></th>\n",
    "            <th scope=\"col\" style=\"width: 40%;\">Description</th>\n",
    "            <th scope=\"col\" style=\"width: 20%;\">Document</th>\n",
    "            <th scope=\"col\" style=\"width: 10%;\">Type</th>\n",
    "            <th scope=\"col\">Size</th>\n",
    "         </tr>\n",
    "         <tr>\n",
    "            <td scope=\"row\">1</td>\n",
    "            <td scope=\"row\">LSV13G123115MEDALLION.TXT</td>\n",
    "            <td scope=\"row\"><a href=\"/Archives/edgar/data/1000209/000105047016000051/lsv13g123115medallion.txt\">lsv13g123115medallion.txt</a></td>\n",
    "            <td scope=\"row\">SC 13G</td>\n",
    "            <td scope=\"row\">8314</td>\n",
    "         </tr>\n",
    "         <tr class=\"blueRow\">\n",
    "            <td scope=\"row\">&nbsp;</td>\n",
    "            <td scope=\"row\">Complete submission text file</td>\n",
    "            <td scope=\"row\"><a href=\"/Archives/edgar/data/1000209/000105047016000051/0001050470-16-000051.txt\">0001050470-16-000051.txt</a></td>\n",
    "            <td scope=\"row\">&nbsp;</td>\n",
    "            <td scope=\"row\">9803</td>\n",
    "         </tr>\n",
    "      </table>\t\n",
    "   </div>\n",
    "</div>\n",
    "<!-- END DOCUMENT DIV -->\n",
    "<!-- START FILER DIV -->\n",
    "<div id=\"filerDiv\">\n",
    "   <div class=\"mailer\">Mailing Address\n",
    "      <span class=\"mailerAddress\">437 MADISON AVENUE</span>\n",
    "      <span class=\"mailerAddress\">38TH FLOOR</span>\n",
    "      <span class=\"mailerAddress\">\n",
    "NEW YORK NY 10022      </span>\n",
    "   </div>\n",
    "   <div class=\"mailer\">Business Address\n",
    "      <span class=\"mailerAddress\">437 MADISON AVE 38 TH FLOOR</span>\n",
    "      <span class=\"mailerAddress\">\n",
    "NEW YORK NY 10022      </span>\n",
    "      <span class=\"mailerAddress\">2123282153</span>\n",
    "   </div>\n",
    "<div class=\"companyInfo\">\n",
    "  <span class=\"companyName\">MEDALLION FINANCIAL CORP (Subject)\n",
    " <acronym title=\"Central Index Key\">CIK</acronym>: <a href=\"/cgi-bin/browse-edgar?CIK=0001000209&amp;action=getcompany\">0001000209 (see all company filings)</a></span>\n",
    "<p class=\"identInfo\"><acronym title=\"Internal Revenue Service Number\">IRS No.</acronym>: <strong>043291176</strong> | State of Incorp.: <strong>DE</strong> | Fiscal Year End: <strong>1231</strong><br />Type: <strong>SC 13G</strong> | Act: <strong>34</strong> | File No.: <a href=\"/cgi-bin/browse-edgar?filenum=005-48473&amp;action=getcompany\"><strong>005-48473</strong></a> | Film No.: <strong>161413579</strong><br /><acronym title=\"Standard Industrial Code\">SIC</acronym>: <b><a href=\"/cgi-bin/browse-edgar?action=getcompany&amp;SIC=6199&amp;owner=include\">6199</a></b> Finance Services<br />Office of Finance</p>\n",
    "</div>\n",
    "<div class=\"clear\"></div>\n",
    "</div>\n",
    "<div id=\"filerDiv\">\n",
    "   <div class=\"mailer\">Mailing Address\n",
    "      <span class=\"mailerAddress\">155 NORTH WACKER DRIVE</span>\n",
    "      <span class=\"mailerAddress\">SUITE 4600</span>\n",
    "      <span class=\"mailerAddress\">\n",
    "CHICAGO IL 60606      </span>\n",
    "   </div>\n",
    "   <div class=\"mailer\">Business Address\n",
    "      <span class=\"mailerAddress\">155 NORTH WACKER DRIVE</span>\n",
    "      <span class=\"mailerAddress\">SUITE 4600</span>\n",
    "      <span class=\"mailerAddress\">\n",
    "CHICAGO IL 60606      </span>\n",
    "      <span class=\"mailerAddress\">312-460-2443</span>\n",
    "   </div>\n",
    "<div class=\"companyInfo\">\n",
    "  <span class=\"companyName\">LSV ASSET MANAGEMENT (Filed by)\n",
    " <acronym title=\"Central Index Key\">CIK</acronym>: <a href=\"/cgi-bin/browse-edgar?CIK=0001050470&amp;action=getcompany\">0001050470 (see all company filings)</a></span>\n",
    "<p class=\"identInfo\"><acronym title=\"Internal Revenue Service Number\">IRS No.</acronym>: <strong>232772200</strong> | State of Incorp.: <strong>DE</strong> | Fiscal Year End: <strong>1231</strong><br />Type: <strong>SC 13G</strong></p>\n",
    "</div>\n",
    "<div class=\"clear\"></div>\n",
    "</div>\n",
    "<!-- END FILER DIV -->\n",
    "</div>\"\"\""
   ]
  },
  {
   "cell_type": "code",
   "execution_count": 26,
   "id": "e39d1d82-dcf8-4f28-ae0f-1b05b65708b7",
   "metadata": {},
   "outputs": [
    {
     "data": {
      "text/plain": [
       "['2016-02-12', '2016-02-11']"
      ]
     },
     "execution_count": 26,
     "metadata": {},
     "output_type": "execute_result"
    }
   ],
   "source": [
    "re.findall(r'[1-2]\\d{3}-\\d{2}-\\d{2}', html)"
   ]
  },
  {
   "cell_type": "code",
   "execution_count": 31,
   "id": "a273f945-1c7f-4789-9537-2488533fe306",
   "metadata": {},
   "outputs": [
    {
     "data": {
      "text/plain": [
       "['6199']"
      ]
     },
     "execution_count": 31,
     "metadata": {},
     "output_type": "execute_result"
    }
   ],
   "source": [
    "re.findall(r\"SIC=(\\d+)\",html)"
   ]
  },
  {
   "cell_type": "code",
   "execution_count": null,
   "id": "a89fdc87-979d-400f-9879-87d938740ce9",
   "metadata": {},
   "outputs": [],
   "source": []
  }
 ],
 "metadata": {
  "kernelspec": {
   "display_name": "Python 3 (ipykernel)",
   "language": "python",
   "name": "python3"
  },
  "language_info": {
   "codemirror_mode": {
    "name": "ipython",
    "version": 3
   },
   "file_extension": ".py",
   "mimetype": "text/x-python",
   "name": "python",
   "nbconvert_exporter": "python",
   "pygments_lexer": "ipython3",
   "version": "3.10.12"
  }
 },
 "nbformat": 4,
 "nbformat_minor": 5
}
