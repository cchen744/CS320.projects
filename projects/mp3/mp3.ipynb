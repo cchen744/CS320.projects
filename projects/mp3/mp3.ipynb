{
 "cells": [
  {
   "cell_type": "markdown",
   "id": "c56144cb-0028-4480-86a6-9615d20a18a4",
   "metadata": {},
   "source": [
    "# Machine Project 3: Loan Analysis"
   ]
  },
  {
   "cell_type": "code",
   "execution_count": 1,
   "id": "e072b461-ab94-432b-a401-73350b12565c",
   "metadata": {},
   "outputs": [],
   "source": [
    "# Add imports used throughout the project here\n",
    "import loans\n",
    "%load_ext autoreload\n",
    "%autoreload 2\n",
    "import search\n",
    "import matplotlib.pyplot as plt\n",
    "import time\n",
    "from zipfile import ZipFile\n",
    "import csv\n",
    "import io\n",
    "import json\n",
    "import pickle"
   ]
  },
  {
   "cell_type": "markdown",
   "id": "0e1ad997-9167-44a5-958d-c1c6734da03b",
   "metadata": {},
   "source": [
    "# Group Part (75%) <small> continued...<small/>\n",
    "\n",
    "For this portion of the machine project, you may collaborate with your group members in any way (including looking at group members' code). You may also seek help from CS 320 course staff (peer mentors, TAs, and the instructor). You **may not** seek or receive help from other CS 320 students (outside of your group) or anybody else outside of the course."
   ]
  },
  {
   "cell_type": "markdown",
   "id": "c8c59b9b-584e-4efe-a20d-25b808fdc223",
   "metadata": {},
   "source": [
    "## Part 3: 'Merchants Bank of Indiana' Analysis\n",
    "For part 3 of this machine project, we will begin using the custom classes we created to do analysis on some banks, loans, and applicants. We will use our newly created `Bank`, `Loan`, and `Applicant` classes to do this analysis.\n",
    "\n",
    "For the following questions, create a `Bank` object for the bank named \"Merchants Bank of Indiana\"."
   ]
  },
  {
   "cell_type": "code",
   "execution_count": 2,
   "id": "b4c23854-f8f2-4409-94d7-dc7d2a54fc4a",
   "metadata": {},
   "outputs": [
    {
     "data": {
      "text/plain": [
       "[<Loan: 3.875% on $135000.0 with 2 applicant(s)>,\n",
       " <Loan: 3.75% on $125000.0 with 1 applicant(s)>]"
      ]
     },
     "execution_count": 2,
     "metadata": {},
     "output_type": "execute_result"
    }
   ],
   "source": [
    "# Create Bank object for \"Merchants Bank of Indiana\"\n",
    "MBI = loans.Bank('Merchants Bank of Indiana')\n",
    "MBI.loan_list[:2]"
   ]
  },
  {
   "cell_type": "markdown",
   "id": "7675eb63-47d9-414b-ad84-e0329490d6b3",
   "metadata": {},
   "source": [
    "### Q1: What is the average interest rate for the bank?\n",
    "\n",
    "Skip loans where the interest rate is not specified (`-1`) in your calculation."
   ]
  },
  {
   "cell_type": "code",
   "execution_count": 3,
   "id": "bf6ef0c9-9110-41d7-aa89-904bf6566d73",
   "metadata": {},
   "outputs": [
    {
     "data": {
      "text/plain": [
       "3.0517241379310347"
      ]
     },
     "execution_count": 3,
     "metadata": {},
     "output_type": "execute_result"
    }
   ],
   "source": [
    "#Q1\n",
    "sum([loan.interest_rate for loan in MBI.loan_list if loan.interest_rate!=-1])/len(MBI.loan_list)"
   ]
  },
  {
   "cell_type": "markdown",
   "id": "68ce2208-2df4-40ad-bb4a-82f3ddfb54fd",
   "metadata": {},
   "source": [
    "### Q2: How many applicants are there per loan, on average?"
   ]
  },
  {
   "cell_type": "code",
   "execution_count": 4,
   "id": "4198a3fc-7de1-4162-91fe-8c11ee711bbb",
   "metadata": {},
   "outputs": [
    {
     "data": {
      "text/plain": [
       "1.6724137931034482"
      ]
     },
     "execution_count": 4,
     "metadata": {},
     "output_type": "execute_result"
    }
   ],
   "source": [
    "#Q2\n",
    "sum([len(loan.applicants) for loan in MBI.loan_list])/len(MBI.loan_list)"
   ]
  },
  {
   "cell_type": "markdown",
   "id": "1a366fd3-f201-4b21-83ba-19e47db4a149",
   "metadata": {},
   "source": [
    "### Q3: What is the distribution of ages?\n",
    "\n",
    "Answer with a dictionary, like this:\n",
    "\n",
    "```\n",
    "{'65-74': 6, '<25': 2, ...}\n",
    "```\n",
    "\n",
    "Remember that the order of the keys does **not** matter, so if the tester is giving you \n",
    "errors, then you will need to double check that all of the values are correct.\n"
   ]
  },
  {
   "cell_type": "code",
   "execution_count": 5,
   "id": "e1f92c09-b886-49a6-b478-94fb32a5559e",
   "metadata": {},
   "outputs": [
    {
     "data": {
      "text/plain": [
       "{'65-74': 6, '<25': 2, '35-44': 43, '25-34': 28, '45-54': 16, '55-64': 2}"
      ]
     },
     "execution_count": 5,
     "metadata": {},
     "output_type": "execute_result"
    }
   ],
   "source": [
    "#Q3\n",
    "mbi_age = {}\n",
    "for loan in MBI.loan_list:\n",
    "    for applicant in loan.applicants:\n",
    "        if applicant.age not in mbi_age:\n",
    "            mbi_age[applicant.age] = 1\n",
    "        else:\n",
    "            mbi_age[applicant.age] += 1\n",
    "mbi_age"
   ]
  },
  {
   "cell_type": "markdown",
   "id": "272d4a9f-f3fc-42da-bdeb-65db4bc2ea7e",
   "metadata": {},
   "source": [
    "### Requirement: `BST` of Loans for Q4 and Q5\n",
    "\n",
    "For the following questions, create a `BST` tree.  Loop over every loan in the bank, adding each to the tree.  The `key` passed to the `add` call should be the `.interest_rate` of the `Loan` object, and the `val` passed to `add` should be the `Loan` object itself.\n",
    "\n",
    "If we called our tree something like `mbi_tree` while creating it, we could now try running `mbi_tree.root.values`, and we can verify that we get two loans back:\n",
    "\n",
    "```python\n",
    "[<Loan: 3.875% on $135000.0 with 2 applicant(s)>,\n",
    " <Loan: 3.875% on $105000.0 with 2 applicant(s)>]\n",
    "```"
   ]
  },
  {
   "cell_type": "code",
   "execution_count": 6,
   "id": "2f3c8b2e-f716-4d49-a70f-99c20f976d00",
   "metadata": {},
   "outputs": [
    {
     "data": {
      "text/plain": [
       "[<Loan: 3.875% on $135000.0 with 2 applicant(s)>,\n",
       " <Loan: 3.75% on $125000.0 with 1 applicant(s)>,\n",
       " <Loan: 3.375% on $285000.0 with 2 applicant(s)>,\n",
       " <Loan: 3.25% on $245000.0 with 2 applicant(s)>,\n",
       " <Loan: 3.875% on $105000.0 with 2 applicant(s)>,\n",
       " <Loan: 3.5% on $145000.0 with 2 applicant(s)>,\n",
       " <Loan: 3.25% on $185000.0 with 1 applicant(s)>,\n",
       " <Loan: 3.25% on $145000.0 with 1 applicant(s)>,\n",
       " <Loan: 3.25% on $285000.0 with 1 applicant(s)>,\n",
       " <Loan: -1% on $285000.0 with 2 applicant(s)>,\n",
       " <Loan: 3.5% on $135000.0 with 1 applicant(s)>,\n",
       " <Loan: 3.25% on $185000.0 with 2 applicant(s)>,\n",
       " <Loan: 3.625% on $175000.0 with 1 applicant(s)>,\n",
       " <Loan: -1% on $185000.0 with 1 applicant(s)>,\n",
       " <Loan: 3.5% on $125000.0 with 1 applicant(s)>,\n",
       " <Loan: 3.25% on $225000.0 with 1 applicant(s)>,\n",
       " <Loan: 3.5% on $115000.0 with 2 applicant(s)>,\n",
       " <Loan: 3.375% on $225000.0 with 1 applicant(s)>,\n",
       " <Loan: 3.25% on $285000.0 with 2 applicant(s)>,\n",
       " <Loan: 3.125% on $135000.0 with 2 applicant(s)>,\n",
       " <Loan: 3.0% on $245000.0 with 2 applicant(s)>,\n",
       " <Loan: 3.0% on $115000.0 with 2 applicant(s)>,\n",
       " <Loan: 3.625% on $325000.0 with 2 applicant(s)>,\n",
       " <Loan: 3.125% on $395000.0 with 2 applicant(s)>,\n",
       " <Loan: 3.5% on $315000.0 with 2 applicant(s)>,\n",
       " <Loan: 3.5% on $145000.0 with 2 applicant(s)>,\n",
       " <Loan: 3.25% on $125000.0 with 1 applicant(s)>,\n",
       " <Loan: 2.625% on $195000.0 with 2 applicant(s)>,\n",
       " <Loan: 3.25% on $105000.0 with 2 applicant(s)>,\n",
       " <Loan: 3.625% on $155000.0 with 1 applicant(s)>,\n",
       " <Loan: 3.625% on $215000.0 with 1 applicant(s)>,\n",
       " <Loan: 3.625% on $255000.0 with 2 applicant(s)>,\n",
       " <Loan: 3.0% on $285000.0 with 2 applicant(s)>,\n",
       " <Loan: 3.0% on $275000.0 with 2 applicant(s)>,\n",
       " <Loan: 3.0% on $355000.0 with 2 applicant(s)>,\n",
       " <Loan: 3.25% on $105000.0 with 1 applicant(s)>,\n",
       " <Loan: 3.0% on $205000.0 with 2 applicant(s)>,\n",
       " <Loan: 3.0% on $215000.0 with 1 applicant(s)>,\n",
       " <Loan: 3.375% on $175000.0 with 2 applicant(s)>,\n",
       " <Loan: 3.0% on $185000.0 with 2 applicant(s)>,\n",
       " <Loan: 3.5% on $285000.0 with 2 applicant(s)>,\n",
       " <Loan: 2.875% on $155000.0 with 1 applicant(s)>,\n",
       " <Loan: 3.0% on $275000.0 with 1 applicant(s)>,\n",
       " <Loan: 2.5% on $335000.0 with 2 applicant(s)>,\n",
       " <Loan: 3.0% on $115000.0 with 2 applicant(s)>,\n",
       " <Loan: 3.125% on $195000.0 with 2 applicant(s)>,\n",
       " <Loan: 2.5% on $175000.0 with 2 applicant(s)>,\n",
       " <Loan: 3.0% on $305000.0 with 2 applicant(s)>,\n",
       " <Loan: 3.5% on $255000.0 with 1 applicant(s)>,\n",
       " <Loan: 3.5% on $155000.0 with 2 applicant(s)>,\n",
       " <Loan: 2.875% on $205000.0 with 2 applicant(s)>,\n",
       " <Loan: 3.25% on $115000.0 with 2 applicant(s)>,\n",
       " <Loan: 3.5% on $175000.0 with 1 applicant(s)>,\n",
       " <Loan: 2.5% on $195000.0 with 2 applicant(s)>,\n",
       " <Loan: 2.625% on $115000.0 with 2 applicant(s)>,\n",
       " <Loan: 3.125% on $325000.0 with 2 applicant(s)>,\n",
       " <Loan: -1% on $275000.0 with 2 applicant(s)>,\n",
       " <Loan: 2.5% on $305000.0 with 2 applicant(s)>]"
      ]
     },
     "execution_count": 6,
     "metadata": {},
     "output_type": "execute_result"
    }
   ],
   "source": [
    "MBI.loan_list\n",
    "# A list of loans (all in Loan class)"
   ]
  },
  {
   "cell_type": "code",
   "execution_count": 7,
   "id": "b4809493-13ce-406a-bd50-460c126bbc73",
   "metadata": {},
   "outputs": [],
   "source": [
    "# Create BST of Loans\n",
    "mbi_tree = search.BST()\n",
    "for loan in MBI.loan_list:\n",
    "    mbi_tree.add(loan.interest_rate,loan)"
   ]
  },
  {
   "cell_type": "markdown",
   "id": "c0e26b85-db20-4cf6-b049-aaa6747baac2",
   "metadata": {},
   "source": [
    "### Q4: How many interest rate values are missing?\n",
    "\n",
    "Don't loop over every loan to answer.  Use your tree to get and count loans with missing rates (that is, `-1`)."
   ]
  },
  {
   "cell_type": "code",
   "execution_count": 8,
   "id": "62c9d5b0-7e9d-447d-8747-d89db05e38b5",
   "metadata": {},
   "outputs": [
    {
     "data": {
      "text/plain": [
       "3"
      ]
     },
     "execution_count": 8,
     "metadata": {},
     "output_type": "execute_result"
    }
   ],
   "source": [
    "#Q4\n",
    "len(mbi_tree[-1])"
   ]
  },
  {
   "cell_type": "markdown",
   "id": "b2cedb3e-3f80-4537-bffd-99b8b9e8553b",
   "metadata": {},
   "source": [
    "\n",
    "### Q5: How tall is the tree?\n",
    "\n",
    "The height is the number of edges in the path from the root to the deepest node. Write a recursive function or method to answer. This can be defined in your notebook or in your `search.py` module as either a standalone function, or as a method of the `BST` class.\n",
    "**Height:**\n",
    "\n",
    "<img src=\"img/bst_height.png\" width=\"300px\">"
   ]
  },
  {
   "cell_type": "code",
   "execution_count": 9,
   "id": "c67316ca-00de-4d1b-8e9c-e1b9c15c981e",
   "metadata": {},
   "outputs": [
    {
     "data": {
      "text/plain": [
       "8"
      ]
     },
     "execution_count": 9,
     "metadata": {},
     "output_type": "execute_result"
    }
   ],
   "source": [
    "#Q5\n",
    "mbi_tree.height()"
   ]
  },
  {
   "cell_type": "markdown",
   "id": "2a55cf4e-58a0-40c7-bff9-35ca2008419b",
   "metadata": {},
   "source": [
    "# Individual Part (25%)\n",
    "\n",
    "For this portion of the machine project, you are only allowed to seek help from CS 320 course staff (peer mentors, TAs, and the instructor). You **may not** receive help from anyone else.\n",
    "\n",
    "For part 4 of this machine project, you will continue to do analysis using `Bank`, `Loan`, and `Appilcant` objects, only this time we will be using a bank\n",
    "that has more data associated with it. Additionally, we will do some more benchmarking to see how our new data structures improve\n",
    "lookups as well as some algorithms work to efficiently find desired statistics from our data."
   ]
  },
  {
   "cell_type": "markdown",
   "id": "1d3c1162-7abe-4dd9-8d70-7d5882441e23",
   "metadata": {},
   "source": [
    "## Part 4: 'Landmark Credit Union' Analysis\n",
    "\n",
    "Build a new `Bank` and corresponding `BST` object as before, but now for \"Landmark Credit Union\"."
   ]
  },
  {
   "cell_type": "code",
   "execution_count": 10,
   "id": "e72f9e09-8e1e-4f34-95a5-1c760a77d28f",
   "metadata": {},
   "outputs": [],
   "source": [
    "# Create Bank object for \"Landmark Credit Union\"\n",
    "lcu = loans.Bank(\"Landmark Credit Union\")\n",
    "lcu_tree = search.BST()\n",
    "for loan in lcu.loan_list:\n",
    "    mbi_tree.add(loan.interest_rate,loan)"
   ]
  },
  {
   "cell_type": "markdown",
   "id": "b01c8c21-0d67-40a5-901a-4992af4002f6",
   "metadata": {},
   "source": [
    "### Q6: How long does it take to add the first 15,000 loans to the tree?\n",
    "\n",
    "Answer with a plot, where the x-axis is how many loans have been added so far, and the y-axis is the total time that has passed so far.  You'll need to measure how much time has elapsed (since the beginning) after each `.add` call (until the first 15000 loans) using `time.time()`. Your code has to add all loans available for LCU to the tree and measure the time it takes only for the first 15000.\n",
    "\n",
    "**Note:** Performance and the amount of noise will vary from one virtual machine to another, so your plot probably won't be identical (this applies to the other performance plots too). \n",
    "\n",
    "**_Make sure to include a title, and axis labels_**\n",
    "\n",
    "**Important:** Make sure to use `\"BST Adds\"` as the label of the line\n",
    "\n",
    "<img src=\"img/q6.png\" width=\"400px\">"
   ]
  },
  {
   "cell_type": "code",
   "execution_count": 11,
   "id": "48e9d76f-41ff-4c38-abd5-c100a459dbd9",
   "metadata": {},
   "outputs": [
    {
     "data": {
      "image/png": "[encoded data removed]",
      "text/plain": [
       "<Figure size 640x480 with 1 Axes>"
      ]
     },
     "metadata": {},
     "output_type": "display_data"
    }
   ],
   "source": [
    "#Q6\n",
    "time_elapsed = []\n",
    "marks = [1,2000,4000,6000,8000,10000,12000,14000,15000]\n",
    "# ADD CODE HERE\n",
    "lcu_tree = search.BST()\n",
    "count = 0\n",
    "time1 = time.time()\n",
    "for loan in lcu.loan_list:\n",
    "    count += 1\n",
    "    lcu_tree.add(loan.interest_rate,loan)\n",
    "    if count in marks:\n",
    "        time_elapsed.append((time.time()-time1)*1000)\n",
    "\n",
    "fig, ax = plt.subplots()\n",
    "\n",
    "# PLOT HERE\n",
    "\n",
    "plt.plot(marks,time_elapsed)\n",
    "plt.xlabel('BST Adds')\n",
    "plt.ylabel(\"Time Elapsed(ms)\")\n",
    "plt.title('Time Elapsed for First 15,000 Entries into BST')\n",
    "\n",
    "# IMPORTANT -- Do not remove -- \n",
    "with open(\"Q6.pkl\", \"wb\") as f:\n",
    "    pickle.dump(fig, f)\n",
    "\n",
    "plt.show()\n",
    "plt.close(fig)"
   ]
  },
  {
   "cell_type": "markdown",
   "id": "1cab210a-9976-40ef-894d-42ab688bfe1c",
   "metadata": {},
   "source": [
    "### Q7: How fast are tree lookups?\n",
    "\n",
    "Create a bar plot with two bars:\n",
    "1. time to find all `interest_rate` values equal to `1.99`, by looping over every loan and keeping a counter\n",
    "2. time to compute `len(NAME_OF_YOUR_BST_OBJECT[1.99])`\n",
    "\n",
    "*Note*: Both methods are calculating the same value: the amount of loans with an interest rate of 1.99. However, this value is not used anywhere in the graph, just the time that each method takes to find this value.\n",
    "\n",
    "**_Make sure to include a title, and axis labels_**\n",
    "\n",
    "<img src=\"img/q7.png\" width=\"400px\">"
   ]
  },
  {
   "cell_type": "code",
   "execution_count": 12,
   "id": "9c159d88-046c-48c7-bd9f-69a682178361",
   "metadata": {},
   "outputs": [
    {
     "data": {
      "image/png": "[encoded data removed]",
      "text/plain": [
       "<Figure size 640x480 with 1 Axes>"
      ]
     },
     "metadata": {},
     "output_type": "display_data"
    }
   ],
   "source": [
    "#Q7\n",
    "\n",
    "# ADD CODE HERE\n",
    "t1_loop = time.time()\n",
    "counter = 0\n",
    "for loan in lcu.loan_list:\n",
    "    if loan.interest_rate == 1.99:\n",
    "        counter += 1\n",
    "t2_loop = time.time()\n",
    "\n",
    "\n",
    "t1_bst = time.time()\n",
    "lcu_tree[1.99]\n",
    "t2_bst = time.time()\n",
    "\n",
    "fig, ax = plt.subplots()\n",
    "\n",
    "# PLOT HERE\n",
    "\n",
    "plt.bar([\"Loop\", \"BST\"],[(t2_loop-t1_loop)*1000,(t2_bst-t1_bst)*1000])\n",
    "plt.ylabel(\"Milliseconds\")\n",
    "plt.title('Lookup Speed Comparison - Loop vs. BST')\n",
    "# IMPORTANT -- Do not remove -- \n",
    "with open(\"Q7.pkl\", \"wb\") as f:\n",
    "    pickle.dump(fig, f)\n",
    "\n",
    "plt.show()\n",
    "plt.close(fig)"
   ]
  },
  {
   "cell_type": "markdown",
   "id": "9a0c636c-72ef-4044-a01e-2dca71081e37",
   "metadata": {},
   "source": [
    "### Q8: What is the distribution of amount of racial identities across all applicants?\n",
    "\n",
    "Answer with a bar graph. The x-axis should be the amount of racial identities\n",
    "indicated by the applicant/co-applicant, while the y-axis should be the count\n",
    "of applicants/co-applicants with the respective amount of racial identities.\n",
    "\n",
    "It may be helpful to create a dictionary before you plot the values. If you do, the\n",
    "corresponding values should be as follows:\n",
    "\n",
    "```python\n",
    "{0: 2639, 1: 24799, 2: 478, 3: 51, 4: 6}\n",
    "```\n",
    "\n",
    "**Note:** The x-axis should be the number of race identities selected by the applicants, not the individual races. (The height of the first bar represents how many applicants/co-applicants have 0 listed races)\n",
    "\n",
    "**_Make sure to include a title, and axis labels_**\n",
    "\n",
    "<img src=\"img/q8.png\" width=\"400px\">"
   ]
  },
  {
   "cell_type": "code",
   "execution_count": 13,
   "id": "3d6a2149-c0c8-43b5-a01f-e4348fd0dbd4",
   "metadata": {},
   "outputs": [
    {
     "data": {
      "image/png": "[encoded data removed]",
      "text/plain": [
       "<Figure size 640x480 with 1 Axes>"
      ]
     },
     "metadata": {},
     "output_type": "display_data"
    }
   ],
   "source": [
    "#Q8\n",
    "\n",
    "# ADD CODE HERE\n",
    "\n",
    "race_count = {}\n",
    "\n",
    "for loan in lcu.loan_list:\n",
    "    for applicant in loan.applicants:\n",
    "        if len(applicant.race) not in race_count:\n",
    "            race_count[len(applicant.race)] = 1\n",
    "        else:\n",
    "            race_count[len(applicant.race)] += 1\n",
    "            \n",
    "fig, ax = plt.subplots()\n",
    "\n",
    "# PLOT HERE\n",
    "plt.bar(race_count.keys(),race_count.values())\n",
    "plt.xlabel(\"Number of racial identities\")\n",
    "plt.ylabel(\"Count\")\n",
    "plt.title('Distribution of amount of racial identities')\n",
    "# IMPORTANT -- Do not remove -- \n",
    "with open(\"Q8.pkl\", \"wb\") as f:\n",
    "    pickle.dump(fig, f)\n",
    "\n",
    "plt.show()\n",
    "plt.close(fig)"
   ]
  },
  {
   "cell_type": "markdown",
   "id": "0c0372d4-e465-4c79-beaa-5a00ce56a36d",
   "metadata": {},
   "source": [
    "### Q9: How many leaf nodes are in the tree?\n",
    "\n",
    "Write a recursive function or method to count the number of leaf nodes present in the given BST.\n"
   ]
  },
  {
   "cell_type": "code",
   "execution_count": 14,
   "id": "93de44e1-23b3-447f-8c88-2f6059ff8b43",
   "metadata": {},
   "outputs": [
    {
     "data": {
      "text/plain": [
       "63"
      ]
     },
     "execution_count": 14,
     "metadata": {},
     "output_type": "execute_result"
    }
   ],
   "source": [
    "#Q9\n",
    "lcu_tree.count_leaf()"
   ]
  },
  {
   "cell_type": "markdown",
   "id": "c1118996-9a37-4889-9d53-1d043b9983cb",
   "metadata": {},
   "source": [
    "### Q10: What is the third largest interest rate in the Bank BST?\n",
    "\n",
    "Write a **recursive** function or method that can return the top 3 (or N) keys for any subtree."
   ]
  },
  {
   "cell_type": "code",
   "execution_count": 15,
   "id": "437de513-9ffc-4345-80d7-a776178b5d3f",
   "metadata": {},
   "outputs": [
    {
     "data": {
      "text/plain": [
       "9.85"
      ]
     },
     "execution_count": 15,
     "metadata": {},
     "output_type": "execute_result"
    }
   ],
   "source": [
    "#Q10\n",
    "lcu_tree.nth_largest_rate(3)"
   ]
  }
 ],
 "metadata": {
  "kernelspec": {
   "display_name": "Python 3 (ipykernel)",
   "language": "python",
   "name": "python3"
  },
  "language_info": {
   "codemirror_mode": {
    "name": "ipython",
    "version": 3
   },
   "file_extension": ".py",
   "mimetype": "text/x-python",
   "name": "python",
   "nbconvert_exporter": "python",
   "pygments_lexer": "ipython3",
   "version": "3.10.12"
  }
 },
 "nbformat": 4,
 "nbformat_minor": 5
}
