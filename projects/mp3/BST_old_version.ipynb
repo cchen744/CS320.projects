{
 "cells": [
  {
   "cell_type": "code",
   "execution_count": 1,
   "id": "631c2741-dafa-4839-9edd-80c6ac642490",
   "metadata": {},
   "outputs": [],
   "source": [
    "class BST_v1:\n",
    "    def __init__(self, loan):\n",
    "        self.key = loan.interest_rate  # loan is in Loan class; Key is the interest rate\n",
    "        self.values = [loan]  # List to store multiple loans with the same interest rate\n",
    "        self.left = None\n",
    "        self.right = None  \n",
    "        \n",
    "    def add(self,loan):\n",
    "        \"\"\"\n",
    "        Adds a new loan to the BST. If a loan with the same interest rate exists, \n",
    "        it is added to the loans list \\which is called self.values\\ of that node.\n",
    "        \"\"\"\n",
    "        if loan.interest_rate < self.key:\n",
    "            # Go left if the new loan's interest rate is smaller\n",
    "            if self.left == None:\n",
    "                self.left = BST(loan)\n",
    "            else:\n",
    "                self.left.add(loan)\n",
    "        elif loan.interest_rate > self.key:\n",
    "            # Go right if the new loan's interest rate is greater\n",
    "            if self.right == None:\n",
    "                self.right = BST(loan)\n",
    "            else:\n",
    "                self.right.add(loan)\n",
    "        else:\n",
    "            # If the interest rate is the same, add the loan to the loans list\n",
    "            self.values.append(loan)\n",
    "            \n",
    "    \n",
    "    def search(self, target):\n",
    "        \"\"\"\n",
    "        returns True/False, if target is somewhere in the tree\n",
    "        \"\"\"\n",
    "        if target == self.key:\n",
    "            print(True)\n",
    "            return self.values\n",
    "        \n",
    "        elif target < self.key:\n",
    "            if self.left != None:\n",
    "                return self.left.search(target)\n",
    "        elif target > self.key:\n",
    "            if self.right != None:\n",
    "                return self.right.search(target)\n",
    "\n",
    "        return False\n",
    "    \n",
    "    def dump(self,all_loans):\n",
    "        \"\"\"\n",
    "        Returns all loans in the tree, grouped by interest rate.\n",
    "        \"\"\"\n",
    "        all_loans.extend(self.values)\n",
    "        if self.left != None:\n",
    "            self.left.dump(all_loans)\n",
    "        if self.right != None:\n",
    "            self.right.dump(all_loans)\n",
    "            \n",
    "        return all_loans\n",
    "            \n",
    "    def height(self):\n",
    "        \"\"\"\n",
    "        Calculates height of the BST.\n",
    "        Height: the number of nodes on the longest root-to-leaf path (including the root)\n",
    "        This definition is 1 more than the definition of loanBST height\n",
    "        \"\"\"\n",
    "        if self.left == None:\n",
    "            l = 0\n",
    "        else:\n",
    "            # recurse left\n",
    "            l = self.left.height()\n",
    "            \n",
    "        if self.right == None:\n",
    "            r = 0\n",
    "        else:\n",
    "            # recurse right\n",
    "            r = self.right.height()\n",
    "            \n",
    "        return max(l, r)+1\n",
    "    \n",
    "    \n",
    "    def leaf_count(self):\n",
    "        \"\"\"Returns the number of leaf nodes in the BST.\"\"\"\n",
    "        if self.left is None and self.right is None:\n",
    "            return 1  # This node is a leaf\n",
    "\n",
    "        left_count = self.left.leaf_count() if self.left else 0\n",
    "        right_count = self.right.leaf_count() if self.right else 0\n",
    "\n",
    "        return left_count + right_count\n",
    "\n",
    "\n",
    "class LoanBST_v1:\n",
    "    def __init__(self,loan_list):\n",
    "        self.root = None\n",
    "        for i in range(len(loan_list)):\n",
    "            if i == 0:\n",
    "            # We set self.root as BST object\n",
    "                self.root = BST(loan_list[i])\n",
    "            else:\n",
    "                self.root.add(loan_list[i])\n",
    "    \n",
    "    def dump(self,all_loans):\n",
    "        \"\"\"dump all loans in a empty list\"\"\"\n",
    "        if self.root == None:\n",
    "            return []\n",
    "        return self.root.dump(all_loans)  # Call BST's dump()\n",
    "    \n",
    "    def search(self, target):\n",
    "        \"\"\"\n",
    "        returns True/False, if target is somewhere in the tree\n",
    "        \"\"\"\n",
    "        return self.root.search(target) # Call BST's search()\n",
    "    \n",
    "    def height(self):\n",
    "        \"\"\"\n",
    "        Adjust the height to project's definition\n",
    "        \"\"\"\n",
    "        return self.root.height()-1\n",
    "    \n",
    "    def leaf_count(self):\n",
    "        return self.root.leaf_count()\n",
    "        "
   ]
  },
  {
   "cell_type": "code",
   "execution_count": 20,
   "id": "c8802417-7ab1-438d-86da-0ce253f5ca6f",
   "metadata": {},
   "outputs": [],
   "source": [
    "import loans\n",
    "import search"
   ]
  },
  {
   "cell_type": "code",
   "execution_count": 23,
   "id": "f4098dec-ff14-424a-9e68-dab8396b9972",
   "metadata": {},
   "outputs": [
    {
     "name": "stdout",
     "output_type": "stream",
     "text": [
      "45\n"
     ]
    }
   ],
   "source": [
    "# TEST: Bank class\n",
    "bank = loans.Bank(\"First Home Bank\")\n",
    "assert bank.lei == \"549300DMI3W6YLDVSK93\"\n",
    "loans.Bank.__len__ = lambda self: len(self.loan_list)\n",
    "print(len(bank))\n",
    "#loans_points += 1"
   ]
  },
  {
   "cell_type": "code",
   "execution_count": 19,
   "id": "4d7a7910-6260-4ed3-ad24-0ee1ee600e8b",
   "metadata": {},
   "outputs": [
    {
     "name": "stdout",
     "output_type": "stream",
     "text": [
      "True\n",
      "False\n",
      "['__class__', '__delattr__', '__dict__', '__dir__', '__doc__', '__eq__', '__format__', '__ge__', '__getattribute__', '__gt__', '__hash__', '__init__', '__init_subclass__', '__le__', '__lt__', '__module__', '__ne__', '__new__', '__reduce__', '__reduce_ex__', '__repr__', '__setattr__', '__sizeof__', '__str__', '__subclasshook__', '__weakref__', 'count', 'lei', 'loan_list', 'name', 'period']\n"
     ]
    }
   ],
   "source": [
    "print(isinstance(bank, loans.Bank))  # Should return True\n",
    "print(hasattr(bank, \"__len__\"))  # Should return True\n",
    "print(dir(bank))  # Look for '__len__' in the output"
   ]
  },
  {
   "cell_type": "code",
   "execution_count": 6,
   "id": "420e4cfb-cb0c-4dbb-9d60-eaa083de82c5",
   "metadata": {},
   "outputs": [
    {
     "ename": "TypeError",
     "evalue": "object of type 'Bank' has no len()",
     "output_type": "error",
     "traceback": [
      "\u001b[0;31m---------------------------------------------------------------------------\u001b[0m",
      "\u001b[0;31mTypeError\u001b[0m                                 Traceback (most recent call last)",
      "Cell \u001b[0;32mIn[6], line 6\u001b[0m\n\u001b[1;32m      3\u001b[0m \u001b[38;5;28;01massert\u001b[39;00m bank\u001b[38;5;241m.\u001b[39mlei \u001b[38;5;241m==\u001b[39m \u001b[38;5;124m\"\u001b[39m\u001b[38;5;124m549300DMI3W6YLDVSK93\u001b[39m\u001b[38;5;124m\"\u001b[39m\n\u001b[1;32m      4\u001b[0m \u001b[38;5;66;03m#loans_points += 1\u001b[39;00m\n\u001b[0;32m----> 6\u001b[0m \u001b[38;5;28;01massert\u001b[39;00m \u001b[38;5;28;43mlen\u001b[39;49m\u001b[43m(\u001b[49m\u001b[43mbank\u001b[49m\u001b[43m)\u001b[49m \u001b[38;5;241m==\u001b[39m \u001b[38;5;241m45\u001b[39m\n\u001b[1;32m      7\u001b[0m \u001b[38;5;28;01massert\u001b[39;00m bank[\u001b[38;5;241m1\u001b[39m]\u001b[38;5;241m.\u001b[39minterest_rate \u001b[38;5;241m==\u001b[39m \u001b[38;5;241m2.5\u001b[39m\n\u001b[1;32m      8\u001b[0m \u001b[38;5;28;01massert\u001b[39;00m bank[\u001b[38;5;241m1\u001b[39m]\u001b[38;5;241m.\u001b[39mproperty_value \u001b[38;5;241m==\u001b[39m \u001b[38;5;241m235000.0\u001b[39m\n",
      "\u001b[0;31mTypeError\u001b[0m: object of type 'Bank' has no len()"
     ]
    }
   ],
   "source": [
    "assert len(bank) == 45\n",
    "assert bank[1].interest_rate == 2.5\n",
    "assert bank[1].property_value == 235000.0\n",
    "assert len(bank[1].applicants) == 2\n",
    "#loans_points += 1\n",
    "\n",
    "assert bank[8].interest_rate == 2.75\n",
    "assert bank[8].property_value == 215000\n",
    "assert len(bank[8].applicants) == 1\n",
    "#loans_points += 1"
   ]
  },
  {
   "cell_type": "code",
   "execution_count": null,
   "id": "6d0a3bec-11ef-4b6d-983f-54c2366d4499",
   "metadata": {},
   "outputs": [],
   "source": []
  }
 ],
 "metadata": {
  "kernelspec": {
   "display_name": "Python 3 (ipykernel)",
   "language": "python",
   "name": "python3"
  },
  "language_info": {
   "codemirror_mode": {
    "name": "ipython",
    "version": 3
   },
   "file_extension": ".py",
   "mimetype": "text/x-python",
   "name": "python",
   "nbconvert_exporter": "python",
   "pygments_lexer": "ipython3",
   "version": "3.10.12"
  }
 },
 "nbformat": 4,
 "nbformat_minor": 5
}
