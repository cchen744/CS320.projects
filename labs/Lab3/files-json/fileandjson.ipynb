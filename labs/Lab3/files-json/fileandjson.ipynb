{
 "cells": [
  {
   "cell_type": "code",
   "execution_count": 3,
   "id": "ad7d4ab8-2241-4be9-a6f0-65892ae5a039",
   "metadata": {},
   "outputs": [],
   "source": [
    "f = open(\"file.txt\",'w')\n",
    "f.write(\"line_1\\n\")\n",
    "f.write(\"line_2\")\n",
    "f.close()"
   ]
  },
  {
   "cell_type": "code",
   "execution_count": 4,
   "id": "93c69dfa-104d-44a9-9e1d-c302c1767825",
   "metadata": {},
   "outputs": [],
   "source": [
    "f = open(\"dog.json\")\n",
    "input1 = f.read()\n",
    "input2 = f.read()\n",
    "f.close()"
   ]
  },
  {
   "cell_type": "code",
   "execution_count": 5,
   "id": "28a951ce-179a-4469-a559-f0c76e26b9cf",
   "metadata": {},
   "outputs": [
    {
     "data": {
      "text/plain": [
       "str"
      ]
     },
     "execution_count": 5,
     "metadata": {},
     "output_type": "execute_result"
    }
   ],
   "source": [
    "type(input1)"
   ]
  },
  {
   "cell_type": "code",
   "execution_count": 8,
   "id": "39262e3c-f408-4b33-914f-a98965bb3d3f",
   "metadata": {},
   "outputs": [
    {
     "data": {
      "text/plain": [
       "'{\\n    \"name\": \"Fido\",\\n    \"age\": 1\\n}'"
      ]
     },
     "execution_count": 8,
     "metadata": {},
     "output_type": "execute_result"
    }
   ],
   "source": [
    "input1"
   ]
  },
  {
   "cell_type": "code",
   "execution_count": 7,
   "id": "a75eed3b-3a85-4251-83b6-5fc05060455b",
   "metadata": {},
   "outputs": [
    {
     "data": {
      "text/plain": [
       "''"
      ]
     },
     "execution_count": 7,
     "metadata": {},
     "output_type": "execute_result"
    }
   ],
   "source": [
    "input2"
   ]
  },
  {
   "cell_type": "code",
   "execution_count": 9,
   "id": "eca28a9e-1334-4cda-96ee-606d30a1bd4f",
   "metadata": {},
   "outputs": [
    {
     "name": "stdout",
     "output_type": "stream",
     "text": [
      "LINE: {\n",
      "LINE:     \"name\": \"Fido\",\n",
      "LINE:     \"age\": 1\n",
      "LINE: }"
     ]
    }
   ],
   "source": [
    "f = open(\"dog.json\")\n",
    "for line in f:\n",
    "    print(\"LINE: \" + line, end=\"\")\n",
    "f.close()"
   ]
  },
  {
   "cell_type": "code",
   "execution_count": 10,
   "id": "93105c84-5005-4b14-ad69-987a6e7f26d9",
   "metadata": {},
   "outputs": [
    {
     "name": "stdout",
     "output_type": "stream",
     "text": [
      "GOT 4 lines\n"
     ]
    }
   ],
   "source": [
    "f = open(\"dog.json\")\n",
    "lines = list(f)\n",
    "f.close()\n",
    "\n",
    "print(\"GOT\", len(lines), \"lines\")"
   ]
  },
  {
   "cell_type": "code",
   "execution_count": 11,
   "id": "4459c114-e02e-41d8-8516-ffba4eefd5eb",
   "metadata": {},
   "outputs": [],
   "source": [
    "f = open(\"dog.json\")\n",
    "lines = list(f)\n",
    "f.close()"
   ]
  },
  {
   "cell_type": "code",
   "execution_count": 12,
   "id": "d56ee5c8-e000-4a53-b551-562d8c2f459d",
   "metadata": {},
   "outputs": [],
   "source": [
    "with open(\"dog.json\") as f:\n",
    "    lines = list(f)\n",
    "# f is automatically closed after the with block"
   ]
  },
  {
   "cell_type": "code",
   "execution_count": 1,
   "id": "07d394d9-e845-4562-a5a5-267d0eeb5e73",
   "metadata": {},
   "outputs": [],
   "source": [
    "import json\n",
    "\n",
    "with open(\"dog.json\") as f:\n",
    "    dog = json.load(f) # fixme"
   ]
  },
  {
   "cell_type": "markdown",
   "id": "1b62d812-d9dd-4e0b-93ab-7fc59ab8130a",
   "metadata": {},
   "source": [
    "- json.load() convert from json file to dictionary\n",
    "- json.loads() converts from string to dictionary"
   ]
  },
  {
   "cell_type": "code",
   "execution_count": 2,
   "id": "a771e129-32c6-41d4-9cf7-b1e5c935914d",
   "metadata": {},
   "outputs": [
    {
     "data": {
      "text/plain": [
       "{'name': 'Fido', 'age': 1}"
      ]
     },
     "execution_count": 2,
     "metadata": {},
     "output_type": "execute_result"
    }
   ],
   "source": [
    "dog"
   ]
  },
  {
   "cell_type": "code",
   "execution_count": 21,
   "id": "1b1cebb6-98be-4949-9406-cb1d9cfbc54e",
   "metadata": {},
   "outputs": [
    {
     "data": {
      "text/plain": [
       "dict"
      ]
     },
     "execution_count": 21,
     "metadata": {},
     "output_type": "execute_result"
    }
   ],
   "source": [
    "data = '{\"name\": \"Fido\", \"age\": 1}'\n",
    "dog2 = json.loads(data) # fixme\n",
    "type(dog2)"
   ]
  },
  {
   "cell_type": "code",
   "execution_count": 20,
   "id": "e36ab134-ee04-4475-84c7-3f5ee55b1942",
   "metadata": {},
   "outputs": [],
   "source": [
    "with open(\"dog.json\") as f:\n",
    "    data = f.read()\n",
    "    dog3 = json.loads(data) # fixme"
   ]
  },
  {
   "cell_type": "code",
   "execution_count": 22,
   "id": "b3b68808-5d6a-43b5-934f-d03f6e18245d",
   "metadata": {},
   "outputs": [
    {
     "data": {
      "text/plain": [
       "dict"
      ]
     },
     "execution_count": 22,
     "metadata": {},
     "output_type": "execute_result"
    }
   ],
   "source": [
    "type(dog3)"
   ]
  },
  {
   "cell_type": "code",
   "execution_count": null,
   "id": "677be8e2-a393-43a3-a9da-f068273642cd",
   "metadata": {},
   "outputs": [],
   "source": []
  }
 ],
 "metadata": {
  "kernelspec": {
   "display_name": "Python 3 (ipykernel)",
   "language": "python",
   "name": "python3"
  },
  "language_info": {
   "codemirror_mode": {
    "name": "ipython",
    "version": 3
   },
   "file_extension": ".py",
   "mimetype": "text/x-python",
   "name": "python",
   "nbconvert_exporter": "python",
   "pygments_lexer": "ipython3",
   "version": "3.10.12"
  }
 },
 "nbformat": 4,
 "nbformat_minor": 5
}
