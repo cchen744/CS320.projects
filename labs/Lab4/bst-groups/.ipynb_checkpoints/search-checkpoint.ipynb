{
 "cells": [
  {
   "cell_type": "code",
   "execution_count": 21,
   "id": "ae484039-dca4-4c9f-a1a6-418e4672d0f4",
   "metadata": {},
   "outputs": [],
   "source": [
    "class Node():\n",
    "    def __init__(self, key):\n",
    "        self.key = key\n",
    "        self.values = []\n",
    "        self.left = None\n",
    "        self.right = None\n",
    "        \n",
    "    def __len__(self):\n",
    "        size = len(self.values)\n",
    "        if self.left != None:\n",
    "            size += self.left.__len__()\n",
    "        if self.right != None:\n",
    "            size += self.right.__len__()\n",
    "        return size\n",
    "    \n",
    "    def lookup(self,key):\n",
    "        if key==self.key:\n",
    "            return self.values\n",
    "        if key < self.key and self.left != None:\n",
    "            return self.left.lookup(key)\n",
    "        if key > self.key and self.right != None:\n",
    "            return self.right.lookup(key)\n",
    "        return []"
   ]
  },
  {
   "cell_type": "code",
   "execution_count": 17,
   "id": "493d5387-3600-4d12-8789-e394e3191a9b",
   "metadata": {},
   "outputs": [],
   "source": [
    "class BST():\n",
    "    def __init__(self):\n",
    "        self.root = None\n",
    "\n",
    "    def add(self, key, val):\n",
    "        if self.root == None:\n",
    "            self.root = Node(key)\n",
    "\n",
    "        curr = self.root\n",
    "        while True:\n",
    "            if key < curr.key:\n",
    "                # go left\n",
    "                if curr.left == None:\n",
    "                    curr.left = Node(key)\n",
    "                curr = curr.left\n",
    "            elif key > curr.key:\n",
    "                 # go right\n",
    "                if curr.right == None:\n",
    "                    curr.right = Node(key)\n",
    "                curr = curr.right\n",
    "            else:\n",
    "                # found it!\n",
    "                assert curr.key == key\n",
    "                break\n",
    "\n",
    "        curr.values.append(val)\n",
    "        \n",
    "    def __dump(self, node):\n",
    "        if node == None:\n",
    "            return\n",
    "        self.__dump(node.right)            # 1\n",
    "        print(node.key, \":\", node.values)  # 2\n",
    "        self.__dump(node.left)             # 3\n",
    "\n",
    "    \n",
    "    def dump(self):\n",
    "        self.__dump(self.root)"
   ]
  },
  {
   "cell_type": "code",
   "execution_count": 22,
   "id": "bad8fb2f-f02c-4e39-b13d-556f56d8ca85",
   "metadata": {},
   "outputs": [
    {
     "name": "stdout",
     "output_type": "stream",
     "text": [
      "C : [33]\n",
      "B : [22]\n",
      "A : [5, 9]\n"
     ]
    }
   ],
   "source": [
    "tree = BST()\n",
    "tree.add(\"C\", 33)\n",
    "tree.add(\"B\", 22)\n",
    "tree.add(\"A\", 5)\n",
    "tree.add(\"A\", 9)\n",
    "tree.dump()"
   ]
  },
  {
   "cell_type": "code",
   "execution_count": 23,
   "id": "e68eed6c-1835-4088-b260-495003c19a33",
   "metadata": {},
   "outputs": [],
   "source": [
    "t = BST()\n",
    "t.add(\"B\", 3)\n",
    "assert len(t.root) == 1\n",
    "t.add(\"A\", 2)\n",
    "assert len(t.root) == 2\n",
    "t.add(\"C\", 1)\n",
    "assert len(t.root) == 3\n",
    "t.add(\"C\", 4)\n",
    "assert len(t.root) == 4"
   ]
  },
  {
   "cell_type": "code",
   "execution_count": null,
   "id": "738c724f-e398-42d1-8d9e-719b96f95fbd",
   "metadata": {},
   "outputs": [],
   "source": []
  }
 ],
 "metadata": {
  "kernelspec": {
   "display_name": "Python 3 (ipykernel)",
   "language": "python",
   "name": "python3"
  },
  "language_info": {
   "codemirror_mode": {
    "name": "ipython",
    "version": 3
   },
   "file_extension": ".py",
   "mimetype": "text/x-python",
   "name": "python",
   "nbconvert_exporter": "python",
   "pygments_lexer": "ipython3",
   "version": "3.10.12"
  }
 },
 "nbformat": 4,
 "nbformat_minor": 5
}
